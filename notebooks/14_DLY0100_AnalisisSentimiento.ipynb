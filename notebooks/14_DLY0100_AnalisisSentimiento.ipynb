{
  "nbformat": 4,
  "nbformat_minor": 0,
  "metadata": {
    "colab": {
      "provenance": [],
      "gpuType": "T4"
    },
    "kernelspec": {
      "name": "python3",
      "display_name": "Python 3"
    },
    "language_info": {
      "name": "python"
    },
    "accelerator": "GPU"
  },
  "cells": [
    {
      "cell_type": "markdown",
      "source": [
        "# Ejercicio de redes recurrentes\n",
        "\n",
        "**Autor:** Jazna Meza Hidalgo\n",
        "\n",
        "**Correo Electrónico:** ja.meza@profesor.duoc.cl\n",
        "\n",
        "**Fecha de Creación:** Mayo de 2025\n",
        "\n",
        "**Versión:** 1.0  \n",
        "\n",
        "---\n",
        "\n",
        "## Descripción\n",
        "\n",
        "En este notebook trabaja con las primeras redes recurrentes aplicadas a análisis de sentimientos\n",
        "\n",
        "---\n",
        "\n",
        "## Requisitos de Software\n",
        "\n",
        "Este notebook fue desarrollado con Python 3.9. A continuación se listan las bibliotecas necesarias:\n",
        "\n",
        "- numpy (2.0.2)\n",
        "- tensorflow (2.18.0)\n",
        "\n",
        "Para verificar la versión instalada ejecutar usando el siguiente comando, usando la librería de la cual quieres saber la versión:\n",
        "\n",
        "```bash\n",
        "import pandas as pd\n",
        "print(pd.__version__)\n",
        "````\n",
        "\n",
        "Adaptado de:  **Advanced Recurrent Neural Networks: Bidirectional RNNs, Samhita Alla**\n",
        "\n",
        "https://www.digitalocean.com/community/tutorials/bidirectional-rnn-keras\n",
        "\n"
      ],
      "metadata": {
        "id": "INBxjp3MwRk5"
      }
    },
    {
      "cell_type": "code",
      "source": [
        "!wget https://nyc3.digitaloceanspaces.com/ml-files-distro/v1/sentiment-analysis-is-bad/data/sentiment140-subset.csv.zip"
      ],
      "metadata": {
        "colab": {
          "base_uri": "https://localhost:8080/"
        },
        "id": "j8g0wnsey215",
        "outputId": "d1ed9c2c-1c35-417f-e2ee-ed03eceef01b"
      },
      "execution_count": null,
      "outputs": [
        {
          "output_type": "stream",
          "name": "stdout",
          "text": [
            "--2025-05-21 20:41:22--  https://nyc3.digitaloceanspaces.com/ml-files-distro/v1/sentiment-analysis-is-bad/data/sentiment140-subset.csv.zip\n",
            "Resolving nyc3.digitaloceanspaces.com (nyc3.digitaloceanspaces.com)... 162.243.189.2\n",
            "Connecting to nyc3.digitaloceanspaces.com (nyc3.digitaloceanspaces.com)|162.243.189.2|:443... connected.\n",
            "HTTP request sent, awaiting response... 200 OK\n",
            "Length: 17927149 (17M) [application/zip]\n",
            "Saving to: ‘sentiment140-subset.csv.zip’\n",
            "\n",
            "sentiment140-subset 100%[===================>]  17.10M  51.1MB/s    in 0.3s    \n",
            "\n",
            "2025-05-21 20:41:22 (51.1 MB/s) - ‘sentiment140-subset.csv.zip’ saved [17927149/17927149]\n",
            "\n"
          ]
        }
      ]
    },
    {
      "cell_type": "markdown",
      "source": [
        "# Carga de Datos\n",
        "\n",
        "\n",
        "Esta fuente de datos original posee 1.6 millones de twetts. En este ejercicio se utiliza sólo un subconjunto de ellos.\n",
        "\n",
        "*(también, se puede usar el archivo CSV desde el disco local con 50k registros)*\n"
      ],
      "metadata": {
        "id": "tAPa4cCXwwM6"
      }
    },
    {
      "cell_type": "code",
      "execution_count": null,
      "metadata": {
        "id": "2PuIzEg_sxof",
        "colab": {
          "base_uri": "https://localhost:8080/"
        },
        "outputId": "28ea0906-546e-4de7-bd79-620557afdcac"
      },
      "outputs": [
        {
          "output_type": "stream",
          "name": "stdout",
          "text": [
            "Archive:  sentiment140-subset.csv.zip\n",
            "  inflating: sentiment140-subset.csv  \n"
          ]
        }
      ],
      "source": [
        "!unzip -n sentiment140-subset.csv.zip"
      ]
    },
    {
      "cell_type": "code",
      "source": [
        "import re\n",
        "import pandas as pd\n",
        "import numpy as np\n",
        "import tensorflow as tf\n",
        "import matplotlib.pyplot as plt\n",
        "\n",
        "from sklearn.model_selection import train_test_split"
      ],
      "metadata": {
        "id": "0-F09I_HzCSj"
      },
      "execution_count": null,
      "outputs": []
    },
    {
      "cell_type": "code",
      "source": [
        "data = pd.read_csv('sentiment140-subset.csv', nrows=50000)"
      ],
      "metadata": {
        "id": "ZPbhYHwotHB-"
      },
      "execution_count": null,
      "outputs": []
    },
    {
      "cell_type": "markdown",
      "source": [
        "# Lectura del dataset."
      ],
      "metadata": {
        "id": "4P1EzEYexblM"
      }
    },
    {
      "cell_type": "code",
      "source": [
        "data.columns"
      ],
      "metadata": {
        "id": "E-AhrzdRtM2T",
        "colab": {
          "base_uri": "https://localhost:8080/"
        },
        "outputId": "4fcec489-0622-4d24-b755-b01c8ba0a73b"
      },
      "execution_count": null,
      "outputs": [
        {
          "output_type": "execute_result",
          "data": {
            "text/plain": [
              "Index(['polarity', 'text'], dtype='object')"
            ]
          },
          "metadata": {},
          "execution_count": 7
        }
      ]
    },
    {
      "cell_type": "markdown",
      "source": [
        "\"text\" indica la oración y \"polarity\", el sentimiento asociado a la oración.\n",
        "La polaridad es 0 o 1. 0 indica negatividad y 1 indica positividad."
      ],
      "metadata": {
        "id": "Pqwu9NSvxibj"
      }
    },
    {
      "cell_type": "code",
      "source": [
        "print(len(data))\n",
        "data.head()"
      ],
      "metadata": {
        "id": "m3u5zMA8tZRk",
        "colab": {
          "base_uri": "https://localhost:8080/",
          "height": 223
        },
        "outputId": "b0596369-68d4-43ad-c809-d0f0191e660f"
      },
      "execution_count": null,
      "outputs": [
        {
          "output_type": "stream",
          "name": "stdout",
          "text": [
            "50000\n"
          ]
        },
        {
          "output_type": "execute_result",
          "data": {
            "text/plain": [
              "   polarity                                               text\n",
              "0         0                      @kconsidder You never tweet  \n",
              "1         0                 Sick today  coding from the couch.\n",
              "2         1  @ChargerJenn Thx for answering so quick,I was ...\n",
              "3         1  Wii fit says I've lost 10 pounds since last ti...\n",
              "4         0  @MrKinetik Not a thing!!!  I don't really have..."
            ],
            "text/html": [
              "\n",
              "  <div id=\"df-bcdf4b99-cc54-4ce1-b245-9ecef266a084\" class=\"colab-df-container\">\n",
              "    <div>\n",
              "<style scoped>\n",
              "    .dataframe tbody tr th:only-of-type {\n",
              "        vertical-align: middle;\n",
              "    }\n",
              "\n",
              "    .dataframe tbody tr th {\n",
              "        vertical-align: top;\n",
              "    }\n",
              "\n",
              "    .dataframe thead th {\n",
              "        text-align: right;\n",
              "    }\n",
              "</style>\n",
              "<table border=\"1\" class=\"dataframe\">\n",
              "  <thead>\n",
              "    <tr style=\"text-align: right;\">\n",
              "      <th></th>\n",
              "      <th>polarity</th>\n",
              "      <th>text</th>\n",
              "    </tr>\n",
              "  </thead>\n",
              "  <tbody>\n",
              "    <tr>\n",
              "      <th>0</th>\n",
              "      <td>0</td>\n",
              "      <td>@kconsidder You never tweet</td>\n",
              "    </tr>\n",
              "    <tr>\n",
              "      <th>1</th>\n",
              "      <td>0</td>\n",
              "      <td>Sick today  coding from the couch.</td>\n",
              "    </tr>\n",
              "    <tr>\n",
              "      <th>2</th>\n",
              "      <td>1</td>\n",
              "      <td>@ChargerJenn Thx for answering so quick,I was ...</td>\n",
              "    </tr>\n",
              "    <tr>\n",
              "      <th>3</th>\n",
              "      <td>1</td>\n",
              "      <td>Wii fit says I've lost 10 pounds since last ti...</td>\n",
              "    </tr>\n",
              "    <tr>\n",
              "      <th>4</th>\n",
              "      <td>0</td>\n",
              "      <td>@MrKinetik Not a thing!!!  I don't really have...</td>\n",
              "    </tr>\n",
              "  </tbody>\n",
              "</table>\n",
              "</div>\n",
              "    <div class=\"colab-df-buttons\">\n",
              "\n",
              "  <div class=\"colab-df-container\">\n",
              "    <button class=\"colab-df-convert\" onclick=\"convertToInteractive('df-bcdf4b99-cc54-4ce1-b245-9ecef266a084')\"\n",
              "            title=\"Convert this dataframe to an interactive table.\"\n",
              "            style=\"display:none;\">\n",
              "\n",
              "  <svg xmlns=\"http://www.w3.org/2000/svg\" height=\"24px\" viewBox=\"0 -960 960 960\">\n",
              "    <path d=\"M120-120v-720h720v720H120Zm60-500h600v-160H180v160Zm220 220h160v-160H400v160Zm0 220h160v-160H400v160ZM180-400h160v-160H180v160Zm440 0h160v-160H620v160ZM180-180h160v-160H180v160Zm440 0h160v-160H620v160Z\"/>\n",
              "  </svg>\n",
              "    </button>\n",
              "\n",
              "  <style>\n",
              "    .colab-df-container {\n",
              "      display:flex;\n",
              "      gap: 12px;\n",
              "    }\n",
              "\n",
              "    .colab-df-convert {\n",
              "      background-color: #E8F0FE;\n",
              "      border: none;\n",
              "      border-radius: 50%;\n",
              "      cursor: pointer;\n",
              "      display: none;\n",
              "      fill: #1967D2;\n",
              "      height: 32px;\n",
              "      padding: 0 0 0 0;\n",
              "      width: 32px;\n",
              "    }\n",
              "\n",
              "    .colab-df-convert:hover {\n",
              "      background-color: #E2EBFA;\n",
              "      box-shadow: 0px 1px 2px rgba(60, 64, 67, 0.3), 0px 1px 3px 1px rgba(60, 64, 67, 0.15);\n",
              "      fill: #174EA6;\n",
              "    }\n",
              "\n",
              "    .colab-df-buttons div {\n",
              "      margin-bottom: 4px;\n",
              "    }\n",
              "\n",
              "    [theme=dark] .colab-df-convert {\n",
              "      background-color: #3B4455;\n",
              "      fill: #D2E3FC;\n",
              "    }\n",
              "\n",
              "    [theme=dark] .colab-df-convert:hover {\n",
              "      background-color: #434B5C;\n",
              "      box-shadow: 0px 1px 3px 1px rgba(0, 0, 0, 0.15);\n",
              "      filter: drop-shadow(0px 1px 2px rgba(0, 0, 0, 0.3));\n",
              "      fill: #FFFFFF;\n",
              "    }\n",
              "  </style>\n",
              "\n",
              "    <script>\n",
              "      const buttonEl =\n",
              "        document.querySelector('#df-bcdf4b99-cc54-4ce1-b245-9ecef266a084 button.colab-df-convert');\n",
              "      buttonEl.style.display =\n",
              "        google.colab.kernel.accessAllowed ? 'block' : 'none';\n",
              "\n",
              "      async function convertToInteractive(key) {\n",
              "        const element = document.querySelector('#df-bcdf4b99-cc54-4ce1-b245-9ecef266a084');\n",
              "        const dataTable =\n",
              "          await google.colab.kernel.invokeFunction('convertToInteractive',\n",
              "                                                    [key], {});\n",
              "        if (!dataTable) return;\n",
              "\n",
              "        const docLinkHtml = 'Like what you see? Visit the ' +\n",
              "          '<a target=\"_blank\" href=https://colab.research.google.com/notebooks/data_table.ipynb>data table notebook</a>'\n",
              "          + ' to learn more about interactive tables.';\n",
              "        element.innerHTML = '';\n",
              "        dataTable['output_type'] = 'display_data';\n",
              "        await google.colab.output.renderOutput(dataTable, element);\n",
              "        const docLink = document.createElement('div');\n",
              "        docLink.innerHTML = docLinkHtml;\n",
              "        element.appendChild(docLink);\n",
              "      }\n",
              "    </script>\n",
              "  </div>\n",
              "\n",
              "\n",
              "    <div id=\"df-070b85af-7346-4fad-af75-13409167802f\">\n",
              "      <button class=\"colab-df-quickchart\" onclick=\"quickchart('df-070b85af-7346-4fad-af75-13409167802f')\"\n",
              "                title=\"Suggest charts\"\n",
              "                style=\"display:none;\">\n",
              "\n",
              "<svg xmlns=\"http://www.w3.org/2000/svg\" height=\"24px\"viewBox=\"0 0 24 24\"\n",
              "     width=\"24px\">\n",
              "    <g>\n",
              "        <path d=\"M19 3H5c-1.1 0-2 .9-2 2v14c0 1.1.9 2 2 2h14c1.1 0 2-.9 2-2V5c0-1.1-.9-2-2-2zM9 17H7v-7h2v7zm4 0h-2V7h2v10zm4 0h-2v-4h2v4z\"/>\n",
              "    </g>\n",
              "</svg>\n",
              "      </button>\n",
              "\n",
              "<style>\n",
              "  .colab-df-quickchart {\n",
              "      --bg-color: #E8F0FE;\n",
              "      --fill-color: #1967D2;\n",
              "      --hover-bg-color: #E2EBFA;\n",
              "      --hover-fill-color: #174EA6;\n",
              "      --disabled-fill-color: #AAA;\n",
              "      --disabled-bg-color: #DDD;\n",
              "  }\n",
              "\n",
              "  [theme=dark] .colab-df-quickchart {\n",
              "      --bg-color: #3B4455;\n",
              "      --fill-color: #D2E3FC;\n",
              "      --hover-bg-color: #434B5C;\n",
              "      --hover-fill-color: #FFFFFF;\n",
              "      --disabled-bg-color: #3B4455;\n",
              "      --disabled-fill-color: #666;\n",
              "  }\n",
              "\n",
              "  .colab-df-quickchart {\n",
              "    background-color: var(--bg-color);\n",
              "    border: none;\n",
              "    border-radius: 50%;\n",
              "    cursor: pointer;\n",
              "    display: none;\n",
              "    fill: var(--fill-color);\n",
              "    height: 32px;\n",
              "    padding: 0;\n",
              "    width: 32px;\n",
              "  }\n",
              "\n",
              "  .colab-df-quickchart:hover {\n",
              "    background-color: var(--hover-bg-color);\n",
              "    box-shadow: 0 1px 2px rgba(60, 64, 67, 0.3), 0 1px 3px 1px rgba(60, 64, 67, 0.15);\n",
              "    fill: var(--button-hover-fill-color);\n",
              "  }\n",
              "\n",
              "  .colab-df-quickchart-complete:disabled,\n",
              "  .colab-df-quickchart-complete:disabled:hover {\n",
              "    background-color: var(--disabled-bg-color);\n",
              "    fill: var(--disabled-fill-color);\n",
              "    box-shadow: none;\n",
              "  }\n",
              "\n",
              "  .colab-df-spinner {\n",
              "    border: 2px solid var(--fill-color);\n",
              "    border-color: transparent;\n",
              "    border-bottom-color: var(--fill-color);\n",
              "    animation:\n",
              "      spin 1s steps(1) infinite;\n",
              "  }\n",
              "\n",
              "  @keyframes spin {\n",
              "    0% {\n",
              "      border-color: transparent;\n",
              "      border-bottom-color: var(--fill-color);\n",
              "      border-left-color: var(--fill-color);\n",
              "    }\n",
              "    20% {\n",
              "      border-color: transparent;\n",
              "      border-left-color: var(--fill-color);\n",
              "      border-top-color: var(--fill-color);\n",
              "    }\n",
              "    30% {\n",
              "      border-color: transparent;\n",
              "      border-left-color: var(--fill-color);\n",
              "      border-top-color: var(--fill-color);\n",
              "      border-right-color: var(--fill-color);\n",
              "    }\n",
              "    40% {\n",
              "      border-color: transparent;\n",
              "      border-right-color: var(--fill-color);\n",
              "      border-top-color: var(--fill-color);\n",
              "    }\n",
              "    60% {\n",
              "      border-color: transparent;\n",
              "      border-right-color: var(--fill-color);\n",
              "    }\n",
              "    80% {\n",
              "      border-color: transparent;\n",
              "      border-right-color: var(--fill-color);\n",
              "      border-bottom-color: var(--fill-color);\n",
              "    }\n",
              "    90% {\n",
              "      border-color: transparent;\n",
              "      border-bottom-color: var(--fill-color);\n",
              "    }\n",
              "  }\n",
              "</style>\n",
              "\n",
              "      <script>\n",
              "        async function quickchart(key) {\n",
              "          const quickchartButtonEl =\n",
              "            document.querySelector('#' + key + ' button');\n",
              "          quickchartButtonEl.disabled = true;  // To prevent multiple clicks.\n",
              "          quickchartButtonEl.classList.add('colab-df-spinner');\n",
              "          try {\n",
              "            const charts = await google.colab.kernel.invokeFunction(\n",
              "                'suggestCharts', [key], {});\n",
              "          } catch (error) {\n",
              "            console.error('Error during call to suggestCharts:', error);\n",
              "          }\n",
              "          quickchartButtonEl.classList.remove('colab-df-spinner');\n",
              "          quickchartButtonEl.classList.add('colab-df-quickchart-complete');\n",
              "        }\n",
              "        (() => {\n",
              "          let quickchartButtonEl =\n",
              "            document.querySelector('#df-070b85af-7346-4fad-af75-13409167802f button');\n",
              "          quickchartButtonEl.style.display =\n",
              "            google.colab.kernel.accessAllowed ? 'block' : 'none';\n",
              "        })();\n",
              "      </script>\n",
              "    </div>\n",
              "\n",
              "    </div>\n",
              "  </div>\n"
            ],
            "application/vnd.google.colaboratory.intrinsic+json": {
              "type": "dataframe",
              "variable_name": "data",
              "summary": "{\n  \"name\": \"data\",\n  \"rows\": 50000,\n  \"fields\": [\n    {\n      \"column\": \"polarity\",\n      \"properties\": {\n        \"dtype\": \"number\",\n        \"std\": 0,\n        \"min\": 0,\n        \"max\": 1,\n        \"num_unique_values\": 2,\n        \"samples\": [\n          1,\n          0\n        ],\n        \"semantic_type\": \"\",\n        \"description\": \"\"\n      }\n    },\n    {\n      \"column\": \"text\",\n      \"properties\": {\n        \"dtype\": \"string\",\n        \"num_unique_values\": 49916,\n        \"samples\": [\n          \"@theburgerman  save that story for work on friday!! sounds like more than 144 characters can handle!! \",\n          \"Lying in bed playing Call of Duty, eating veggie straws and chocolate peanut butter frozen yogurt. I'm gonna have to work out 4 hrs now \"\n        ],\n        \"semantic_type\": \"\",\n        \"description\": \"\"\n      }\n    }\n  ]\n}"
            }
          },
          "metadata": {},
          "execution_count": 8
        }
      ]
    },
    {
      "cell_type": "markdown",
      "source": [
        "# Procesando el data set"
      ],
      "metadata": {
        "id": "SvPuqGgkx0fY"
      }
    },
    {
      "cell_type": "markdown",
      "source": [
        "Dado que el texto sin procesar es difícil de procesar por una red neuronal, se debe convertir en su representación numérica correspondiente.\n",
        "\n",
        "Para ello, se inicializa su tokenizador estableciendo la cantidad máxima de palabras (características/tokens) que desea convertir en tokens en una oración."
      ],
      "metadata": {
        "id": "sG57-ETex_fR"
      }
    },
    {
      "cell_type": "code",
      "source": [
        "max_features = 4000"
      ],
      "metadata": {
        "id": "75yj3bCctfVd"
      },
      "execution_count": null,
      "outputs": []
    },
    {
      "cell_type": "markdown",
      "source": [
        "Ajustar el tokenizador al texto"
      ],
      "metadata": {
        "id": "gWCpHdHUyK7-"
      }
    },
    {
      "cell_type": "code",
      "source": [
        "tokenizer = tf.keras.preprocessing.text.Tokenizer(num_words=max_features, split=' ', oov_token=\"<OOV>\")\n",
        "tokenizer.fit_on_texts(data['text'].values)"
      ],
      "metadata": {
        "id": "2lMWMorztj4L"
      },
      "execution_count": null,
      "outputs": []
    },
    {
      "cell_type": "markdown",
      "source": [
        "Utiliza el tokenizador resultante para tokenizar el texto.\n",
        "\n"
      ],
      "metadata": {
        "id": "folrHWD7yeop"
      }
    },
    {
      "cell_type": "code",
      "source": [
        "X = tokenizer.texts_to_sequences(data['text'].values)"
      ],
      "metadata": {
        "id": "9T9-22fOtnd-"
      },
      "execution_count": null,
      "outputs": []
    },
    {
      "cell_type": "markdown",
      "source": [
        "\n",
        "Se rellenan las secuencias tokenizadas para mantener la misma longitud en todas las secuencias de entrada.\n",
        "\n"
      ],
      "metadata": {
        "id": "0-9BXKNnykOi"
      }
    },
    {
      "cell_type": "code",
      "source": [
        "X = tf.keras.preprocessing.sequence.pad_sequences(X, padding=\"post\")"
      ],
      "metadata": {
        "id": "pz2FWeGNtr8d"
      },
      "execution_count": null,
      "outputs": []
    },
    {
      "cell_type": "markdown",
      "source": [
        "Por último, imprime la forma del vector de entrada.\n",
        "\n"
      ],
      "metadata": {
        "id": "iqcTnB-Zyqm3"
      }
    },
    {
      "cell_type": "code",
      "source": [
        "X.shape"
      ],
      "metadata": {
        "id": "ygqc82mGttjF",
        "colab": {
          "base_uri": "https://localhost:8080/"
        },
        "outputId": "a456273b-55d1-4683-ea1c-279dc1ff4dfc"
      },
      "execution_count": null,
      "outputs": [
        {
          "output_type": "execute_result",
          "data": {
            "text/plain": [
              "(50000, 36)"
            ]
          },
          "metadata": {},
          "execution_count": 20
        }
      ]
    },
    {
      "cell_type": "markdown",
      "source": [
        "De este modo, existen 50 000 vectores de entrada, cada uno de longitud 35."
      ],
      "metadata": {
        "id": "HGVUbDb_yxPU"
      }
    },
    {
      "cell_type": "code",
      "source": [
        "X[1:]"
      ],
      "metadata": {
        "colab": {
          "base_uri": "https://localhost:8080/"
        },
        "id": "4Hj95N7OleDI",
        "outputId": "598f3a90-e46e-4f7e-ee1f-387af6c4122c"
      },
      "execution_count": null,
      "outputs": [
        {
          "output_type": "execute_result",
          "data": {
            "text/plain": [
              "array([[ 189,   44,    1, ...,    0,    0,    0],\n",
              "       [   1,  795,   11, ...,    0,    0,    0],\n",
              "       [1618, 1403,  444, ...,    0,    0,    0],\n",
              "       ...,\n",
              "       [ 238,    3,    1, ...,    0,    0,    0],\n",
              "       [ 231,    1,   26, ...,    0,    0,    0],\n",
              "       [   1,  298,    1, ...,    0,    0,    0]], dtype=int32)"
            ]
          },
          "metadata": {},
          "execution_count": 21
        }
      ]
    },
    {
      "cell_type": "markdown",
      "source": [
        "# Creación del Modelo\n",
        "\n",
        "Ahora, se crea un modelo RNN bidireccional. Se utiliza tf.keras.Sequential() para definir el modelo. Agrega las capas Embedding, SpatialDropout, Bidirectional y Dense.\n",
        "\n",
        "+ Una capa `Embedding` es la capa de entrada que asigna las palabras/tokenizadores a un vector con dimensiones embed_dim.\n",
        "\n",
        "+ La capa `SpatialDropout1D` se utiliza para eliminar los nodos a fin de evitar el sobreajuste. 0,4 indica la probabilidad con la que se deben eliminar los nodos.\n",
        "+ La capa `Bidirectional` es una capa RNN-LSTM con un tamaño lstm_out.\n",
        "+ La capa `Dense` es una capa de salida con 2 nodos (que indican positivo y negativo) y una función de activación softmax. Softmax ayuda a determinar la probabilidad de inclinación de un texto hacia la positividad o la negatividad.\n",
        "\n",
        "Finalmente, adjunta las funciones de pérdida `categorical cross entropy` y el optimizador `Adam` al modelo."
      ],
      "metadata": {
        "id": "Kxb0Wnsxy1Un"
      }
    },
    {
      "cell_type": "code",
      "source": [
        "embed_dim = 256\n",
        "lstm_out = 196\n",
        "\n",
        "modelo = tf.keras.Sequential(name=\"mi_red\")\n",
        "modelo.add(tf.keras.Input(shape=(X.shape[1],)))\n",
        "modelo.add(tf.keras.layers.Embedding(max_features, embed_dim, name=\"Capa_Embedding\"))\n",
        "modelo.add(tf.keras.layers.SpatialDropout1D(0.4, name=\"Capa_SpatialDropout\"))\n",
        "modelo.add(tf.keras.layers.Bidirectional(tf.keras.layers.LSTM(lstm_out, dropout=0.05, recurrent_dropout=0.2,\n",
        "                                                              name=\"Capa_Bidireccional\")))\n",
        "modelo.add(tf.keras.layers.Dense(2, activation='softmax', name=\"Capa_Salida\"))\n",
        "modelo.compile(loss='categorical_crossentropy', optimizer='adam', metrics=['accuracy'])\n"
      ],
      "metadata": {
        "id": "mFWxRjj1tyVK"
      },
      "execution_count": null,
      "outputs": []
    },
    {
      "cell_type": "code",
      "source": [
        "modelo.summary()"
      ],
      "metadata": {
        "id": "h_qfo-Bqt0cZ",
        "colab": {
          "base_uri": "https://localhost:8080/",
          "height": 275
        },
        "outputId": "0da750a7-5651-45a5-eba1-c19677651fcb"
      },
      "execution_count": null,
      "outputs": [
        {
          "output_type": "display_data",
          "data": {
            "text/plain": [
              "\u001b[1mModel: \"mi_red\"\u001b[0m\n"
            ],
            "text/html": [
              "<pre style=\"white-space:pre;overflow-x:auto;line-height:normal;font-family:Menlo,'DejaVu Sans Mono',consolas,'Courier New',monospace\"><span style=\"font-weight: bold\">Model: \"mi_red\"</span>\n",
              "</pre>\n"
            ]
          },
          "metadata": {}
        },
        {
          "output_type": "display_data",
          "data": {
            "text/plain": [
              "┏━━━━━━━━━━━━━━━━━━━━━━━━━━━━━━━━━┳━━━━━━━━━━━━━━━━━━━━━━━━┳━━━━━━━━━━━━━━━┓\n",
              "┃\u001b[1m \u001b[0m\u001b[1mLayer (type)                   \u001b[0m\u001b[1m \u001b[0m┃\u001b[1m \u001b[0m\u001b[1mOutput Shape          \u001b[0m\u001b[1m \u001b[0m┃\u001b[1m \u001b[0m\u001b[1m      Param #\u001b[0m\u001b[1m \u001b[0m┃\n",
              "┡━━━━━━━━━━━━━━━━━━━━━━━━━━━━━━━━━╇━━━━━━━━━━━━━━━━━━━━━━━━╇━━━━━━━━━━━━━━━┩\n",
              "│ Capa_Embedding (\u001b[38;5;33mEmbedding\u001b[0m)      │ (\u001b[38;5;45mNone\u001b[0m, \u001b[38;5;34m36\u001b[0m, \u001b[38;5;34m256\u001b[0m)        │     \u001b[38;5;34m1,024,000\u001b[0m │\n",
              "├─────────────────────────────────┼────────────────────────┼───────────────┤\n",
              "│ Capa_SpatialDropout             │ (\u001b[38;5;45mNone\u001b[0m, \u001b[38;5;34m36\u001b[0m, \u001b[38;5;34m256\u001b[0m)        │             \u001b[38;5;34m0\u001b[0m │\n",
              "│ (\u001b[38;5;33mSpatialDropout1D\u001b[0m)              │                        │               │\n",
              "├─────────────────────────────────┼────────────────────────┼───────────────┤\n",
              "│ bidirectional_2 (\u001b[38;5;33mBidirectional\u001b[0m) │ (\u001b[38;5;45mNone\u001b[0m, \u001b[38;5;34m392\u001b[0m)            │       \u001b[38;5;34m710,304\u001b[0m │\n",
              "├─────────────────────────────────┼────────────────────────┼───────────────┤\n",
              "│ Capa_Salida (\u001b[38;5;33mDense\u001b[0m)             │ (\u001b[38;5;45mNone\u001b[0m, \u001b[38;5;34m2\u001b[0m)              │           \u001b[38;5;34m786\u001b[0m │\n",
              "└─────────────────────────────────┴────────────────────────┴───────────────┘\n"
            ],
            "text/html": [
              "<pre style=\"white-space:pre;overflow-x:auto;line-height:normal;font-family:Menlo,'DejaVu Sans Mono',consolas,'Courier New',monospace\">┏━━━━━━━━━━━━━━━━━━━━━━━━━━━━━━━━━┳━━━━━━━━━━━━━━━━━━━━━━━━┳━━━━━━━━━━━━━━━┓\n",
              "┃<span style=\"font-weight: bold\"> Layer (type)                    </span>┃<span style=\"font-weight: bold\"> Output Shape           </span>┃<span style=\"font-weight: bold\">       Param # </span>┃\n",
              "┡━━━━━━━━━━━━━━━━━━━━━━━━━━━━━━━━━╇━━━━━━━━━━━━━━━━━━━━━━━━╇━━━━━━━━━━━━━━━┩\n",
              "│ Capa_Embedding (<span style=\"color: #0087ff; text-decoration-color: #0087ff\">Embedding</span>)      │ (<span style=\"color: #00d7ff; text-decoration-color: #00d7ff\">None</span>, <span style=\"color: #00af00; text-decoration-color: #00af00\">36</span>, <span style=\"color: #00af00; text-decoration-color: #00af00\">256</span>)        │     <span style=\"color: #00af00; text-decoration-color: #00af00\">1,024,000</span> │\n",
              "├─────────────────────────────────┼────────────────────────┼───────────────┤\n",
              "│ Capa_SpatialDropout             │ (<span style=\"color: #00d7ff; text-decoration-color: #00d7ff\">None</span>, <span style=\"color: #00af00; text-decoration-color: #00af00\">36</span>, <span style=\"color: #00af00; text-decoration-color: #00af00\">256</span>)        │             <span style=\"color: #00af00; text-decoration-color: #00af00\">0</span> │\n",
              "│ (<span style=\"color: #0087ff; text-decoration-color: #0087ff\">SpatialDropout1D</span>)              │                        │               │\n",
              "├─────────────────────────────────┼────────────────────────┼───────────────┤\n",
              "│ bidirectional_2 (<span style=\"color: #0087ff; text-decoration-color: #0087ff\">Bidirectional</span>) │ (<span style=\"color: #00d7ff; text-decoration-color: #00d7ff\">None</span>, <span style=\"color: #00af00; text-decoration-color: #00af00\">392</span>)            │       <span style=\"color: #00af00; text-decoration-color: #00af00\">710,304</span> │\n",
              "├─────────────────────────────────┼────────────────────────┼───────────────┤\n",
              "│ Capa_Salida (<span style=\"color: #0087ff; text-decoration-color: #0087ff\">Dense</span>)             │ (<span style=\"color: #00d7ff; text-decoration-color: #00d7ff\">None</span>, <span style=\"color: #00af00; text-decoration-color: #00af00\">2</span>)              │           <span style=\"color: #00af00; text-decoration-color: #00af00\">786</span> │\n",
              "└─────────────────────────────────┴────────────────────────┴───────────────┘\n",
              "</pre>\n"
            ]
          },
          "metadata": {}
        },
        {
          "output_type": "display_data",
          "data": {
            "text/plain": [
              "\u001b[1m Total params: \u001b[0m\u001b[38;5;34m1,735,090\u001b[0m (6.62 MB)\n"
            ],
            "text/html": [
              "<pre style=\"white-space:pre;overflow-x:auto;line-height:normal;font-family:Menlo,'DejaVu Sans Mono',consolas,'Courier New',monospace\"><span style=\"font-weight: bold\"> Total params: </span><span style=\"color: #00af00; text-decoration-color: #00af00\">1,735,090</span> (6.62 MB)\n",
              "</pre>\n"
            ]
          },
          "metadata": {}
        },
        {
          "output_type": "display_data",
          "data": {
            "text/plain": [
              "\u001b[1m Trainable params: \u001b[0m\u001b[38;5;34m1,735,090\u001b[0m (6.62 MB)\n"
            ],
            "text/html": [
              "<pre style=\"white-space:pre;overflow-x:auto;line-height:normal;font-family:Menlo,'DejaVu Sans Mono',consolas,'Courier New',monospace\"><span style=\"font-weight: bold\"> Trainable params: </span><span style=\"color: #00af00; text-decoration-color: #00af00\">1,735,090</span> (6.62 MB)\n",
              "</pre>\n"
            ]
          },
          "metadata": {}
        },
        {
          "output_type": "display_data",
          "data": {
            "text/plain": [
              "\u001b[1m Non-trainable params: \u001b[0m\u001b[38;5;34m0\u001b[0m (0.00 B)\n"
            ],
            "text/html": [
              "<pre style=\"white-space:pre;overflow-x:auto;line-height:normal;font-family:Menlo,'DejaVu Sans Mono',consolas,'Courier New',monospace\"><span style=\"font-weight: bold\"> Non-trainable params: </span><span style=\"color: #00af00; text-decoration-color: #00af00\">0</span> (0.00 B)\n",
              "</pre>\n"
            ]
          },
          "metadata": {}
        }
      ]
    },
    {
      "cell_type": "markdown",
      "source": [
        "# Inicializar los datos de Test y Train\n",
        "\n"
      ],
      "metadata": {
        "id": "VfEdn27qzd2c"
      }
    },
    {
      "cell_type": "markdown",
      "source": [
        "Se crea una representación codificada one-hot de las etiquetas de salida utilizando el método get_dummies()."
      ],
      "metadata": {
        "id": "0NjnFbB4zo5S"
      }
    },
    {
      "cell_type": "code",
      "source": [
        "y = pd.get_dummies(data['polarity'])"
      ],
      "metadata": {
        "id": "f3aTIpHAvn6u"
      },
      "execution_count": null,
      "outputs": []
    },
    {
      "cell_type": "markdown",
      "source": [
        "El mapa resultante contiene 0 para \"Positivo\" y 1 para \"Negativo\""
      ],
      "metadata": {
        "id": "EOIRJvX3zuQL"
      }
    },
    {
      "cell_type": "code",
      "source": [
        "result_dict = {0: 'Negative', 1: 'Positive'}\n",
        "y_arr = np.vectorize(result_dict.get)(y.columns)"
      ],
      "metadata": {
        "id": "n3JHxSUvv61h"
      },
      "execution_count": null,
      "outputs": []
    },
    {
      "cell_type": "markdown",
      "source": [
        "La variable y_arr se utilizará durante las predicciones del modelo.\n",
        "\n",
        "Ahora, se obtiene  las etiquetas de salida."
      ],
      "metadata": {
        "id": "BdEy3xnPz7RY"
      }
    },
    {
      "cell_type": "code",
      "source": [
        "y = y.values"
      ],
      "metadata": {
        "id": "Xk-LNK5ev-Dw"
      },
      "execution_count": null,
      "outputs": []
    },
    {
      "cell_type": "markdown",
      "source": [
        "Se divide el set de datos de train y test utilizando el método `train_test_split()`."
      ],
      "metadata": {
        "id": "q-NyLG1O0Dck"
      }
    },
    {
      "cell_type": "code",
      "source": [
        "y.shape"
      ],
      "metadata": {
        "colab": {
          "base_uri": "https://localhost:8080/"
        },
        "id": "4yqeDR96l8Hz",
        "outputId": "37f8c652-5734-47de-bfe9-9f5ea25886fc"
      },
      "execution_count": null,
      "outputs": [
        {
          "output_type": "execute_result",
          "data": {
            "text/plain": [
              "(50000, 2)"
            ]
          },
          "metadata": {},
          "execution_count": 48
        }
      ]
    },
    {
      "cell_type": "code",
      "source": [
        "X_train, X_test, y_train, y_test = train_test_split(X, y, test_size = 0.33, random_state = 29)"
      ],
      "metadata": {
        "id": "yOLLJCI8wBIA"
      },
      "execution_count": null,
      "outputs": []
    },
    {
      "cell_type": "code",
      "source": [
        "print(X_train.shape, y_train.shape)\n",
        "print(X_test.shape, y_test.shape)"
      ],
      "metadata": {
        "id": "SJ6i16NuwCrM",
        "colab": {
          "base_uri": "https://localhost:8080/"
        },
        "outputId": "6d119b1d-d997-4b75-e550-eb3c1784cdd7"
      },
      "execution_count": null,
      "outputs": [
        {
          "output_type": "stream",
          "name": "stdout",
          "text": [
            "(33500, 36) (33500, 2)\n",
            "(16500, 36) (16500, 2)\n"
          ]
        }
      ]
    },
    {
      "cell_type": "markdown",
      "source": [
        "# Entrenamiento del Modelo"
      ],
      "metadata": {
        "id": "tUPn6pdz0Kvu"
      }
    },
    {
      "cell_type": "code",
      "source": [
        "history = modelo.fit(X_train, y_train, epochs=20, batch_size=128, verbose=2)"
      ],
      "metadata": {
        "id": "TvMITnpfwGp1",
        "colab": {
          "base_uri": "https://localhost:8080/"
        },
        "outputId": "fc91798b-9c4f-4e7f-d8ea-f7abbd45ba0a"
      },
      "execution_count": null,
      "outputs": [
        {
          "output_type": "stream",
          "name": "stdout",
          "text": [
            "Epoch 1/20\n",
            "262/262 - 64s - 243ms/step - accuracy: 0.7165 - loss: 0.5512\n",
            "Epoch 2/20\n",
            "262/262 - 79s - 303ms/step - accuracy: 0.7896 - loss: 0.4508\n",
            "Epoch 3/20\n",
            "262/262 - 82s - 311ms/step - accuracy: 0.8070 - loss: 0.4178\n",
            "Epoch 4/20\n",
            "262/262 - 82s - 315ms/step - accuracy: 0.8222 - loss: 0.3910\n",
            "Epoch 5/20\n",
            "262/262 - 55s - 211ms/step - accuracy: 0.8353 - loss: 0.3641\n",
            "Epoch 6/20\n",
            "262/262 - 81s - 309ms/step - accuracy: 0.8471 - loss: 0.3384\n",
            "Epoch 7/20\n",
            "262/262 - 83s - 316ms/step - accuracy: 0.8568 - loss: 0.3177\n",
            "Epoch 8/20\n",
            "262/262 - 57s - 218ms/step - accuracy: 0.8701 - loss: 0.2966\n",
            "Epoch 9/20\n",
            "262/262 - 81s - 311ms/step - accuracy: 0.8786 - loss: 0.2748\n",
            "Epoch 10/20\n",
            "262/262 - 55s - 211ms/step - accuracy: 0.8898 - loss: 0.2550\n",
            "Epoch 11/20\n",
            "262/262 - 56s - 215ms/step - accuracy: 0.8973 - loss: 0.2356\n",
            "Epoch 12/20\n",
            "262/262 - 82s - 313ms/step - accuracy: 0.9064 - loss: 0.2206\n",
            "Epoch 13/20\n",
            "262/262 - 81s - 309ms/step - accuracy: 0.9129 - loss: 0.2046\n",
            "Epoch 14/20\n",
            "262/262 - 81s - 307ms/step - accuracy: 0.9209 - loss: 0.1878\n",
            "Epoch 15/20\n",
            "262/262 - 82s - 311ms/step - accuracy: 0.9263 - loss: 0.1766\n",
            "Epoch 16/20\n",
            "262/262 - 83s - 316ms/step - accuracy: 0.9331 - loss: 0.1606\n",
            "Epoch 17/20\n",
            "262/262 - 82s - 313ms/step - accuracy: 0.9384 - loss: 0.1507\n",
            "Epoch 18/20\n",
            "262/262 - 81s - 309ms/step - accuracy: 0.9438 - loss: 0.1381\n",
            "Epoch 19/20\n",
            "262/262 - 82s - 312ms/step - accuracy: 0.9460 - loss: 0.1314\n",
            "Epoch 20/20\n",
            "262/262 - 82s - 315ms/step - accuracy: 0.9499 - loss: 0.1236\n"
          ]
        }
      ]
    },
    {
      "cell_type": "markdown",
      "source": [
        "Generamos gráficos de precisión y pérdida capturados durante el proceso de entrenamiento."
      ],
      "metadata": {
        "id": "o5ENLlXt0UiA"
      }
    },
    {
      "cell_type": "code",
      "source": [
        "# Imprime las claves disponibles en el diccionario\n",
        "print(history.history.keys())"
      ],
      "metadata": {
        "id": "G2bu7-Ie8B8D",
        "colab": {
          "base_uri": "https://localhost:8080/"
        },
        "outputId": "bad79ede-a95a-4792-dd26-52960456dea4"
      },
      "execution_count": null,
      "outputs": [
        {
          "output_type": "stream",
          "name": "stdout",
          "text": [
            "dict_keys(['accuracy', 'loss'])\n"
          ]
        }
      ]
    },
    {
      "cell_type": "code",
      "source": [
        "plt.plot(history.history['accuracy'])\n",
        "plt.title('Accuracy modelo', fontsize=16, fontweight=\"bold\")\n",
        "plt.ylabel('accuracy', fontsize=14, fontweight=\"bold\")\n",
        "plt.xlabel('epoch', fontsize=14, fontweight=\"bold\")\n",
        "plt.legend(['train'], loc='upper left')\n",
        "plt.show()\n",
        "\n",
        "plt.plot(history.history['loss'])\n",
        "plt.title('Pérdida del modelo', fontsize=16, fontweight=\"bold\")\n",
        "plt.ylabel('loss', fontsize=14, fontweight=\"bold\")\n",
        "plt.xlabel('epoch', fontsize=14, fontweight=\"bold\")\n",
        "plt.legend(['train'], loc='upper left')\n",
        "plt.show()"
      ],
      "metadata": {
        "id": "v7DqbaKV7sCY",
        "colab": {
          "base_uri": "https://localhost:8080/",
          "height": 941
        },
        "outputId": "dc535769-61b2-4e40-f931-150a25d74a72"
      },
      "execution_count": null,
      "outputs": [
        {
          "output_type": "display_data",
          "data": {
            "text/plain": [
              "<Figure size 640x480 with 1 Axes>"
            ],
            "image/png": "[encoded data removed]"
          },
          "metadata": {}
        },
        {
          "output_type": "display_data",
          "data": {
            "text/plain": [
              "<Figure size 640x480 with 1 Axes>"
            ],
            "image/png": "[encoded data removed]"
          },
          "metadata": {}
        }
      ]
    },
    {
      "cell_type": "markdown",
      "source": [
        "# Cálculo de la Precisión (Accuracy)"
      ],
      "metadata": {
        "id": "-XrozKwJBZbr"
      }
    },
    {
      "cell_type": "code",
      "source": [
        "score, acc = modelo.evaluate(X_test, y_test, verbose=2, batch_size=64)\n",
        "print(\"Score: %.2f\" % (score))\n",
        "print(\"Accuracy: %.2f\" % (acc))"
      ],
      "metadata": {
        "id": "cVo1GacEBfB8",
        "colab": {
          "base_uri": "https://localhost:8080/"
        },
        "outputId": "105d17fe-e35e-477e-cef2-72f25d0bcf19"
      },
      "execution_count": null,
      "outputs": [
        {
          "output_type": "stream",
          "name": "stdout",
          "text": [
            "258/258 - 12s - 45ms/step - accuracy: 0.7392 - loss: 1.1299\n",
            "Score: 1.13\n",
            "Accuracy: 0.74\n"
          ]
        }
      ]
    },
    {
      "cell_type": "markdown",
      "source": [
        "# Realiza Análisis de Sentimientos"
      ],
      "metadata": {
        "id": "7P3LDnpdB0TD"
      }
    },
    {
      "cell_type": "markdown",
      "source": [
        "Ahora es el momento de predecir el sentimiento (positividad/negatividad) de una oración dada por el usuario."
      ],
      "metadata": {
        "id": "Il9qehqHCIDi"
      }
    },
    {
      "cell_type": "code",
      "source": [
        "twt = ['I do not recommend this product']"
      ],
      "metadata": {
        "id": "eWq5eOCdCLr8"
      },
      "execution_count": null,
      "outputs": []
    },
    {
      "cell_type": "markdown",
      "source": [
        "Luego, se tokeniza"
      ],
      "metadata": {
        "id": "4N0SqU2ACTED"
      }
    },
    {
      "cell_type": "code",
      "source": [
        "twt = tokenizer.texts_to_sequences(twt)"
      ],
      "metadata": {
        "id": "JFEdRuZuCV3Q"
      },
      "execution_count": null,
      "outputs": []
    },
    {
      "cell_type": "markdown",
      "source": [
        "Luego, se rellena"
      ],
      "metadata": {
        "id": "SmU4Mh07CY3r"
      }
    },
    {
      "cell_type": "code",
      "source": [
        "twt = tf.keras.preprocessing.sequence.pad_sequences(twt, maxlen=X.shape[1], dtype='int32', value=0)"
      ],
      "metadata": {
        "id": "7CB1EacxCfxn"
      },
      "execution_count": null,
      "outputs": []
    },
    {
      "cell_type": "markdown",
      "source": [
        "Predice el sentimiento pasando la oración al modelo construido."
      ],
      "metadata": {
        "id": "6wAkX21zCo1s"
      }
    },
    {
      "cell_type": "code",
      "source": [
        "sentiment = modelo.predict(twt, batch_size=1)[0]\n",
        "print(sentiment)\n",
        "\n",
        "if(np.argmax(sentiment) == 0):\n",
        "    print(y_arr[0])\n",
        "elif (np.argmax(sentiment) == 1):\n",
        "    print(y_arr[1])\n"
      ],
      "metadata": {
        "id": "07J2wP4MCqu_",
        "colab": {
          "base_uri": "https://localhost:8080/"
        },
        "outputId": "c62b8e7a-a81f-4e49-f043-c4b721daa895"
      },
      "execution_count": null,
      "outputs": [
        {
          "output_type": "stream",
          "name": "stdout",
          "text": [
            "\u001b[1m1/1\u001b[0m \u001b[32m━━━━━━━━━━━━━━━━━━━━\u001b[0m\u001b[37m\u001b[0m \u001b[1m1s\u001b[0m 756ms/step\n",
            "[0.75905746 0.24094255]\n",
            "Negative\n"
          ]
        }
      ]
    },
    {
      "cell_type": "markdown",
      "source": [
        "#Desafío\n",
        "\n",
        "Prueba con \" I do recommend this product \"....cuál es el resultado?....haz otras pruebas..."
      ],
      "metadata": {
        "id": "k2EFvdOKDLVM"
      }
    }
  ]
}