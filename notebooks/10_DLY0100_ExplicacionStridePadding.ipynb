{
  "nbformat": 4,
  "nbformat_minor": 0,
  "metadata": {
    "colab": {
      "provenance": []
    },
    "kernelspec": {
      "name": "python3",
      "display_name": "Python 3"
    },
    "language_info": {
      "name": "python"
    }
  },
  "cells": [
    {
      "cell_type": "markdown",
      "source": [
        "# Explicación concepto de convolución, stride y padding\n",
        "\n",
        "---\n",
        "\n",
        "\n",
        "\n",
        "**Autor:** Jazna Meza Hidalgo\n",
        "\n",
        "**Correo Electrónico:** ja.meza@profesor.duoc.cl\n",
        "\n",
        "**Fecha de Creación:** 2023\n",
        "\n",
        "**Versión:** 1.0  \n",
        "\n",
        "**Fecha de Actualziación:** Abril 2025\n",
        "\n",
        "**Versión:** 1.1  \n",
        "\n",
        "\n",
        "---\n",
        "\n",
        "## Descripción\n",
        "\n",
        "Este notebook explica los conceptos de convolución, stride y padding.\n",
        "\n",
        "---\n",
        "\n",
        "## Requisitos de Software\n",
        "\n",
        "Este notebook fue desarrollado con Python 3.9. A continuación se listan las bibliotecas necesarias:\n",
        "\n",
        "- numpy (2.0.2)\n",
        "- tensorflow (2.18.0)\n",
        "- matplotlib (3.10.0)\n",
        "\n",
        "Para verificar la versión instalada ejecutar usando el siguiente comando, usando la librería de la cual quieres saber la versión:\n",
        "\n",
        "```bash\n",
        "import pandas as pd\n",
        "print(pd.__version__)\n",
        "````"
      ],
      "metadata": {
        "id": "tnp5iMJMw40z"
      }
    },
    {
      "cell_type": "code",
      "source": [
        "import tensorflow as tf\n",
        "import numpy as np\n",
        "import matplotlib.pyplot as plt"
      ],
      "metadata": {
        "id": "qrVoGbO7xTCL"
      },
      "execution_count": null,
      "outputs": []
    },
    {
      "cell_type": "code",
      "execution_count": null,
      "metadata": {
        "colab": {
          "base_uri": "https://localhost:8080/",
          "height": 308
        },
        "id": "YL5Q8PcjcwKM",
        "outputId": "538489a9-fd9c-4abf-bc45-122c3b845216"
      },
      "outputs": [
        {
          "output_type": "display_data",
          "data": {
            "text/plain": [
              "<Figure size 640x480 with 2 Axes>"
            ],
            "image/png": "[encoded data removed]"
          },
          "metadata": {}
        }
      ],
      "source": [
        "# Cargar una imagen en escala de grises de ejemplo\n",
        "imagen = np.array([[1, 1, 1, 0, 0],\n",
        "                   [0, 1, 1, 1, 0],\n",
        "                   [0, 0, 1, 1, 1],\n",
        "                   [0, 0, 1, 1, 0],\n",
        "                   [0, 1, 1, 0, 0]], dtype=np.float32)\n",
        "\n",
        "# Añadir una dimensión de canal para que coincida con la forma de entrada de la capa Conv2D\n",
        "imagen = imagen.reshape(1, 5, 5, 1)\n",
        "\n",
        "# Definir una capa de convolución con un kernel simple\n",
        "capa_convolucion = tf.keras.layers.Conv2D(filters=1, kernel_size=3, strides=1, padding='valid')\n",
        "\n",
        "# Aplicar la capa de convolución a la imagen\n",
        "resultado_convolucion = capa_convolucion(imagen)\n",
        "\n",
        "# Obtener el resultado como un array de NumPy\n",
        "resultado = resultado_convolucion.numpy()\n",
        "\n",
        "# Mostrar la imagen original y la imagen resultante de la convolución\n",
        "plt.figure()\n",
        "plt.subplot(1, 2, 1)\n",
        "plt.imshow(imagen[0, :, :, 0], cmap='gray')\n",
        "plt.title('Imagen Original', fontsize=12, fontweight=\"bold\")\n",
        "plt.subplot(1, 2, 2)\n",
        "plt.imshow(resultado[0, :, :, 0], cmap='gray')\n",
        "plt.title('Imagen Convolucionada', fontsize=12, fontweight=\"bold\")\n",
        "plt.show()\n",
        "\n"
      ]
    },
    {
      "cell_type": "markdown",
      "source": [
        "**La imagen inicial (una matriz de números entre 0 y 1).**\n",
        "\n",
        "+ 1 significa zonas claras.\n",
        "\n",
        "+ 0 significa zonas oscuras.\n",
        "\n",
        "**Aplica un filtro (kernel)**\n",
        "\n",
        "+ El filtro (o kernel) es como una pequeña ventana que va recorriendo la imagen.\n",
        "\n",
        "+ En cada posición, el filtro multiplica los valores de la imagen por los valores del kernel y suma el resultado.\n",
        "\n",
        "+ Esto genera un nuevo valor para esa posición en la imagen resultante.\n",
        "\n",
        "**¿Por qué cambian las tonalidades?**\n",
        "\n",
        "+ Donde el filtro encuentra patrones fuertes (por ejemplo, cambios de 0 a 1 o de 1 a 0), los valores sumados son más grandes o más pequeños.\n",
        "\n",
        "+ Eso genera zonas más claras o más oscuras en la nueva imagen.\n",
        "\n",
        "Si el filtro \"detecta\" que hay borde, cambio o textura, ese lugar se verá más brillante o más oscuro en la imagen convolucionada.\n",
        "\n",
        "**¿Cómo se interpretan los cambos de tono?**\n",
        "\n",
        "+ En la imagen convolucionada, las zonas muy claras: es porque el filtro encontró **un cambio fuerte**. Un ejemplo de cambio fuerte es el borde de una figura.\n",
        "\n",
        "+ En la imagen convolucionada, las zonas oscuras: no hubo cambios importantes en la región.\n",
        "\n",
        "**Consideraciones importantes**\n",
        "\n",
        "+ El filtro que se creó se inicializa aleatoriamente (porque no se entrega un kernel específico).\n",
        "\n",
        "+ Consecuencia de lo anterior, el tipo de cambio de tonalidades puede parecer un poco aleatorio.\n"
      ],
      "metadata": {
        "id": "ipPqqgtLyjrl"
      }
    },
    {
      "cell_type": "code",
      "source": [
        "capa_convolucion.kernel_initializer.distribution"
      ],
      "metadata": {
        "colab": {
          "base_uri": "https://localhost:8080/",
          "height": 35
        },
        "id": "zqrDuRZflY2p",
        "outputId": "ec5ae46b-0bf5-4e6a-ca03-075ad8d040f7"
      },
      "execution_count": null,
      "outputs": [
        {
          "output_type": "execute_result",
          "data": {
            "text/plain": [
              "'uniform'"
            ],
            "application/vnd.google.colaboratory.intrinsic+json": {
              "type": "string"
            }
          },
          "metadata": {},
          "execution_count": 47
        }
      ]
    },
    {
      "cell_type": "code",
      "source": [
        "imagen.shape"
      ],
      "metadata": {
        "colab": {
          "base_uri": "https://localhost:8080/"
        },
        "id": "Es-O8J6DpEdv",
        "outputId": "79304ef8-f805-4f96-b2dd-fbaf39554d55"
      },
      "execution_count": null,
      "outputs": [
        {
          "output_type": "execute_result",
          "data": {
            "text/plain": [
              "(1, 5, 5, 1)"
            ]
          },
          "metadata": {},
          "execution_count": 49
        }
      ]
    },
    {
      "cell_type": "code",
      "source": [
        "resultado.shape"
      ],
      "metadata": {
        "colab": {
          "base_uri": "https://localhost:8080/"
        },
        "id": "vtj1eGJeeaji",
        "outputId": "59bd9a94-fd91-46df-bf71-82e9dffceeab"
      },
      "execution_count": null,
      "outputs": [
        {
          "output_type": "execute_result",
          "data": {
            "text/plain": [
              "(1, 3, 3, 1)"
            ]
          },
          "metadata": {},
          "execution_count": 51
        }
      ]
    },
    {
      "cell_type": "markdown",
      "source": [
        "# Cambio en el valor de stride"
      ],
      "metadata": {
        "id": "vOSZzOugpebY"
      }
    },
    {
      "cell_type": "code",
      "source": [
        "# Definir una capa de convolución con un kernel simple\n",
        "capa_convolucion = tf.keras.layers.Conv2D(filters=1, kernel_size=3, strides=2, padding='valid')\n",
        "\n",
        "# Aplicar la capa de convolución a la imagen\n",
        "resultado_convolucion = capa_convolucion(imagen)\n",
        "\n",
        "# Obtener el resultado como un array de NumPy\n",
        "resultado = resultado_convolucion.numpy()\n",
        "\n",
        "# Mostrar la imagen original y la imagen resultante de la convolución\n",
        "plt.figure()\n",
        "plt.subplot(1, 2, 1)\n",
        "plt.imshow(imagen[0, :, :, 0], cmap='gray')\n",
        "plt.title('Imagen Original', fontsize=12, fontweight=\"bold\")\n",
        "plt.subplot(1, 2, 2)\n",
        "plt.imshow(resultado[0, :, :, 0], cmap='gray')\n",
        "plt.title('Imagen Convolucionada', fontsize=12, fontweight=\"bold\")\n",
        "plt.show()\n"
      ],
      "metadata": {
        "colab": {
          "base_uri": "https://localhost:8080/",
          "height": 308
        },
        "id": "keTOcS7ThLz7",
        "outputId": "e4f000cd-a157-4e8f-9f98-2c98d7b81fc1"
      },
      "execution_count": null,
      "outputs": [
        {
          "output_type": "display_data",
          "data": {
            "text/plain": [
              "<Figure size 640x480 with 2 Axes>"
            ],
            "image/png": "[encoded data removed]"
          },
          "metadata": {}
        }
      ]
    },
    {
      "cell_type": "code",
      "source": [
        "resultado.shape"
      ],
      "metadata": {
        "colab": {
          "base_uri": "https://localhost:8080/"
        },
        "id": "Xp_1I6RFpSZ5",
        "outputId": "524b9f92-fb27-4a0b-c932-6a464b56844b"
      },
      "execution_count": null,
      "outputs": [
        {
          "output_type": "execute_result",
          "data": {
            "text/plain": [
              "(1, 2, 2, 1)"
            ]
          },
          "metadata": {},
          "execution_count": 53
        }
      ]
    },
    {
      "cell_type": "markdown",
      "source": [
        "# Parámetro *padding*"
      ],
      "metadata": {
        "id": "JxFzFwl95CxF"
      }
    },
    {
      "cell_type": "code",
      "source": [
        "# Definir una capa de convolución con un kernel simple\n",
        "capa_convolucion = tf.keras.layers.Conv2D(filters=1, kernel_size=3, strides=1, padding='same')\n",
        "\n",
        "# Aplicar la capa de convolución a la imagen\n",
        "resultado_convolucion = capa_convolucion(imagen)\n",
        "\n",
        "# Obtener el resultado como un array de NumPy\n",
        "resultado = resultado_convolucion.numpy()\n",
        "\n",
        "# Mostrar la imagen original y la imagen resultante de la convolución\n",
        "plt.figure()\n",
        "plt.subplot(1, 2, 1)\n",
        "plt.imshow(imagen[0, :, :, 0], cmap='gray')\n",
        "plt.title('Imagen Original', fontsize=12, fontweight=\"bold\")\n",
        "plt.subplot(1, 2, 2)\n",
        "plt.imshow(resultado[0, :, :, 0], cmap='gray')\n",
        "plt.title('Imagen Convolucionada', fontsize=12, fontweight=\"bold\")\n",
        "plt.show()\n"
      ],
      "metadata": {
        "colab": {
          "base_uri": "https://localhost:8080/",
          "height": 308
        },
        "id": "7jBv98takYc8",
        "outputId": "332e0704-2e83-4998-d5d8-8d602ce4a121"
      },
      "execution_count": null,
      "outputs": [
        {
          "output_type": "display_data",
          "data": {
            "text/plain": [
              "<Figure size 640x480 with 2 Axes>"
            ],
            "image/png": "[encoded data removed]"
          },
          "metadata": {}
        }
      ]
    },
    {
      "cell_type": "code",
      "source": [
        "resultado.shape"
      ],
      "metadata": {
        "colab": {
          "base_uri": "https://localhost:8080/"
        },
        "id": "rnnnk4YlphDQ",
        "outputId": "a2e37367-e2de-4a9d-a8bf-2b6a4c4cd83d"
      },
      "execution_count": null,
      "outputs": [
        {
          "output_type": "execute_result",
          "data": {
            "text/plain": [
              "(1, 5, 5, 1)"
            ]
          },
          "metadata": {},
          "execution_count": 9
        }
      ]
    },
    {
      "cell_type": "code",
      "source": [
        "# Definir una capa de convolución con un kernel simple\n",
        "capa_convolucion = tf.keras.layers.Conv2D(filters=1, kernel_size=3, strides=2, padding='same')\n",
        "\n",
        "# Aplicar la capa de convolución a la imagen\n",
        "resultado_convolucion = capa_convolucion(imagen)\n",
        "\n",
        "# Obtener el resultado como un array de NumPy\n",
        "resultado = resultado_convolucion.numpy()\n",
        "\n",
        "# Mostrar la imagen original y la imagen resultante de la convolución\n",
        "plt.figure()\n",
        "plt.subplot(1, 2, 1)\n",
        "plt.imshow(imagen[0, :, :, 0], cmap='gray')\n",
        "plt.title('Imagen Original', fontsize=12, fontweight=\"bold\")\n",
        "plt.subplot(1, 2, 2)\n",
        "plt.imshow(resultado[0, :, :, 0], cmap='gray')\n",
        "plt.title('Imagen Convolucionada', fontsize=12, fontweight=\"bold\")\n",
        "plt.show()"
      ],
      "metadata": {
        "colab": {
          "base_uri": "https://localhost:8080/",
          "height": 308
        },
        "id": "2ivwE-GUkdw7",
        "outputId": "195831ed-7735-4d37-c67c-8a5c19937e36"
      },
      "execution_count": null,
      "outputs": [
        {
          "output_type": "display_data",
          "data": {
            "text/plain": [
              "<Figure size 640x480 with 2 Axes>"
            ],
            "image/png": "[encoded data removed]"
          },
          "metadata": {}
        }
      ]
    },
    {
      "cell_type": "code",
      "source": [
        "resultado.shape"
      ],
      "metadata": {
        "colab": {
          "base_uri": "https://localhost:8080/"
        },
        "id": "ZwP27GHxpqH7",
        "outputId": "44f9b745-cfb7-4681-fc64-e4028b5838a9"
      },
      "execution_count": null,
      "outputs": [
        {
          "output_type": "execute_result",
          "data": {
            "text/plain": [
              "(1, 3, 3, 1)"
            ]
          },
          "metadata": {},
          "execution_count": 11
        }
      ]
    },
    {
      "cell_type": "markdown",
      "source": [
        "**✅ ¿Qué cambia con el parámetro padding?**\n",
        "\n",
        "*padding = 'valid'*\n",
        "+ **No agrega ceros** alrededor de la imagen. Sólo se computan posiciones donde el filtro cabe completamente.\n",
        "+ El resultado es que la imagen **disminuye su tamaño**.\n",
        "\n",
        "*padding = 'same'*\n",
        "+ **Agrega ceros** alrededor de la imagen (bordes). De esta forma se puede aplicar el filtro en todos los lados, incluso en los bordes.\n",
        "+ El resultado es que la imagen **mantiene su tamaño original**.\n",
        "\n",
        "Si se tiene una imagen de 5x5:\n",
        "\n",
        "+ Con *padding='valid'* y filtro 3x3, el resultado será de tamaño (5-3+1) x (5-3+1) = 3x3.\n",
        "\n",
        "+ Con *padding='same'* y filtro 3x3, el resultado será 5x5 igual que la original, porque se agregan ceros extra para \"acomodar\" el filtro en las orillas."
      ],
      "metadata": {
        "id": "XrQKiCcm3zn9"
      }
    },
    {
      "cell_type": "markdown",
      "source": [
        "# Uso de kernel específico"
      ],
      "metadata": {
        "id": "ShD0TNPG0VYL"
      }
    },
    {
      "cell_type": "code",
      "source": [
        "# Añadir dimensión de batch y canal\n",
        "imagen = imagen.reshape(1, 5, 5, 1)\n",
        "\n",
        "# Definir manualmente un kernel (filtro de detección de bordes)\n",
        "kernel = np.array([[[-1], [-1], [-1]],\n",
        "                   [[-1], [8], [-1]],\n",
        "                   [[-1], [-1], [-1]]], dtype=np.float32)\n",
        "\n",
        "# Ajustar dimensiones: alto, ancho, canales de entrada, canales de salida\n",
        "kernel = kernel.reshape(3, 3, 1, 1)\n",
        "\n",
        "capa_convolucion = tf.keras.layers.Conv2D(filters=1, kernel_initializer=kernel, kernel_size= 3,\n",
        "                                          strides=1, padding='valid')\n",
        "# Aplicar convolución manualmente\n",
        "resultado_convolucion = capa_convolucion(imagen)\n",
        "\n",
        "# Convertir a numpy\n",
        "resultado = resultado_convolucion.numpy()\n",
        "\n",
        "# Mostrar imagen original y convolucionada\n",
        "plt.figure(figsize=(8, 4))\n",
        "plt.subplot(1, 2, 1)\n",
        "plt.imshow(imagen[0, :, :, 0], cmap='gray')\n",
        "plt.title('Imagen Original', fontsize=12, fontweight=\"bold\")\n",
        "plt.subplot(1, 2, 2)\n",
        "plt.imshow(resultado[0, :, :, 0], cmap='gray')\n",
        "plt.title('Imagen Convolucionada (Bordes)', fontsize=12, fontweight=\"bold\")\n",
        "plt.show()"
      ],
      "metadata": {
        "colab": {
          "base_uri": "https://localhost:8080/",
          "height": 364
        },
        "id": "z0G7FvqY0Qir",
        "outputId": "3c44ef7d-ad40-4cf2-b92f-e9585edd8a0b"
      },
      "execution_count": null,
      "outputs": [
        {
          "output_type": "display_data",
          "data": {
            "text/plain": [
              "<Figure size 800x400 with 2 Axes>"
            ],
            "image/png": "[encoded data removed]"
          },
          "metadata": {}
        }
      ]
    },
    {
      "cell_type": "markdown",
      "source": [
        "---\n",
        "✅**Comentarios**\n",
        "\n",
        "---\n",
        "+ Este kernel **resalta los bordes**: zonas donde los ixeles cambian de valor\n",
        "+ Si el centro es muy distinto de sus vecinos entonces el resultado será un número más alto (zona clara en la convolución).\n",
        "+ Si, por el contrario, el centro es parecido a sus vecinos entonces el resultado será más pequeño o negativo (zona oscura)"
      ],
      "metadata": {
        "id": "hSJr2Irk0nIL"
      }
    },
    {
      "cell_type": "markdown",
      "source": [
        "🧠 **¿Qué significa el 8?**\n",
        "\n",
        "+ No es completamente arbitrario, pero sí es elegido a propósito para lograr cierto efecto.\n",
        "\n",
        "+ El 8 en el centro se pone para darle más peso al píxel central comparado con sus vecinos.\n",
        "\n",
        "Como todos los vecinos tienen peso -1, y el centro tiene 8, lo que haces es:\n",
        "\n",
        "+ Si el centro es muy diferente de sus vecinos, el resultado será alto.\n",
        "\n",
        "+ Si el centro y sus vecinos son parecidos, el resultado será bajo o cercano a cero.\n",
        "\n",
        "Esta es una idea típica de un detector de bordes, llamada **filtro Laplaciano**.\n",
        "\n",
        "Matemáticamente:\n",
        "\n",
        "$nuevo\\ valor = (8\\times pixel_{central} - (\\sum_{i=1}^{8}pixel_i\\ vecino))$\n",
        "\n",
        "+ Si el píxel central es similar a sus vecinos, los valores se cancelan.\n",
        "+ Si es muy distinto (por ejemplo, pasa de blanco a negro), el resultado es grande, detectando un borde.\n",
        "\n",
        "**El número 8 tiene sentido porque:**\n",
        "\n",
        "+ Son 8 vecinos.\n",
        "\n",
        "+ Cada vecino aporta \"-1\" → en total \"-8\".\n",
        "\n",
        "+ Para \"balancearlo\", al centro se le pone \"8\".\n",
        "\n",
        "+ Así el filtro está \"centrado\" (si todo es uniforme, el resultado es cero).\n",
        "\n",
        "\n"
      ],
      "metadata": {
        "id": "3fCwmuY01eCJ"
      }
    },
    {
      "cell_type": "code",
      "source": [
        "# Define el kernel pero ahora con 4 en el centro\n",
        "kernel = np.array([[[-1], [-1], [-1]],\n",
        "                   [[-1], [ 4], [-1]],\n",
        "                   [[-1], [-1], [-1]]], dtype=np.float32)\n",
        "\n",
        "kernel = kernel.reshape(3, 3, 1, 1)\n",
        "\n",
        "# Convolución con padding 'valid' (sin bordes)\n",
        "\n",
        "capa_convolucion_valid = tf.keras.layers.Conv2D(filters=1, kernel_initializer=kernel, kernel_size= 3,\n",
        "                                          strides=1, padding='valid')\n",
        "\n",
        "capa_convolucion_same = tf.keras.layers.Conv2D(filters=1, kernel_initializer=kernel, kernel_size= 3,\n",
        "                                          strides=1, padding='same')\n",
        "\n",
        "# Aplicar convolución manualmente\n",
        "resultado_valid = capa_convolucion_valid(imagen)\n",
        "resultado_same = capa_convolucion_same(imagen)\n",
        "#resultado_valid = tf.nn.conv2d(imagen, kernel, strides=1, padding='VALID')\n",
        "\n",
        "# Convolución con padding 'SAME' (manteniendo el tamaño)\n",
        "#resultado_same = tf.nn.conv2d(imagen, kernel, strides=1, padding='SAME')\n",
        "\n",
        "# Mostrar imágenes\n",
        "plt.figure(figsize=(12, 4))\n",
        "\n",
        "plt.subplot(1, 3, 1)\n",
        "plt.imshow(imagen[0, :, :, 0], cmap='gray')\n",
        "plt.title('Imagen Original', fontsize=12, fontweight=\"bold\")\n",
        "\n",
        "plt.subplot(1, 3, 2)\n",
        "plt.imshow(resultado_valid[0, :, :, 0], cmap='gray')\n",
        "plt.title('Resultado (valid)', fontsize=12, fontweight=\"bold\")\n",
        "\n",
        "plt.subplot(1, 3, 3)\n",
        "plt.imshow(resultado_same[0, :, :, 0], cmap='gray')\n",
        "plt.title('Resultado (same)', fontsize=12, fontweight=\"bold\")\n",
        "\n",
        "plt.show()\n"
      ],
      "metadata": {
        "colab": {
          "base_uri": "https://localhost:8080/",
          "height": 356
        },
        "id": "h9b6X1Wz3c_y",
        "outputId": "a0c1659b-ffc7-4337-d70f-27a4a378f281"
      },
      "execution_count": null,
      "outputs": [
        {
          "output_type": "display_data",
          "data": {
            "text/plain": [
              "<Figure size 1200x400 with 3 Axes>"
            ],
            "image/png": "[encoded data removed]"
          },
          "metadata": {}
        }
      ]
    },
    {
      "cell_type": "markdown",
      "source": [
        "✅ **¿Qué se observa al cambiar el 8 por 4?**\n",
        "\n",
        "+ Como el centro tiene menos peso, el filtro es menos agresivo detectando los bordes.\n",
        "\n",
        "+ En el resultado, se observa que los bordes no se resaltan tanto como con 8.\n",
        "\n",
        "+ Menos diferencia entre el píxel central y los vecinos genera tonalidades más suaves.\n",
        "\n"
      ],
      "metadata": {
        "id": "0Nv3p0pg3tKo"
      }
    },
    {
      "cell_type": "markdown",
      "source": [
        "# **🔖 Otros kernel**"
      ],
      "metadata": {
        "id": "O1uQQQGNrqNy"
      }
    },
    {
      "cell_type": "markdown",
      "source": [
        "## Detección de bordes"
      ],
      "metadata": {
        "id": "1EQnhZS9sbbw"
      }
    },
    {
      "cell_type": "markdown",
      "source": [
        "### Sobel (horizontal)\n",
        "\n",
        "Detecta bordes en dirección horizontal\n",
        "\n",
        "\n",
        "\n",
        "```\n",
        "sobel_horizontal = np.array([\n",
        "    [[-1], [0], [1]],\n",
        "    [[-2], [0], [2]],\n",
        "    [[-1], [0], [1]]\n",
        "], dtype=np.float32)\n",
        "```\n",
        "\n"
      ],
      "metadata": {
        "id": "uqClW2uur8SK"
      }
    },
    {
      "cell_type": "markdown",
      "source": [
        "### Sobel (vertical)\n",
        "\n",
        "Detecta bordes en dirección vertical\n",
        "\n",
        "\n",
        "\n",
        "```\n",
        "sobel_vertical = np.array([\n",
        "    [[-1], [-2], [-1]],\n",
        "    [[0], [0], [0]],\n",
        "    [[1], [2], [1]]\n",
        "], dtype=np.float32)\n",
        "```\n",
        "\n"
      ],
      "metadata": {
        "id": "SPRQ4aNQsH8D"
      }
    },
    {
      "cell_type": "markdown",
      "source": [
        "## Kernels para suavizado\n",
        "\n",
        "\n",
        "\n"
      ],
      "metadata": {
        "id": "xmTFGFGLsPOv"
      }
    },
    {
      "cell_type": "markdown",
      "source": [
        "### Promedio simple (Box Blur)\n",
        "\n",
        "Difumina suavemente la imagen, quitando ruido.\n",
        "\n",
        "\n",
        "```\n",
        "box_blur = np.array([\n",
        "    [[1/9], [1/9], [1/9]],\n",
        "    [[1/9], [1/9], [1/9]],\n",
        "    [[1/9], [1/9], [1/9]]\n",
        "], dtype=np.float32)\n",
        "\n",
        "```\n",
        "\n"
      ],
      "metadata": {
        "id": "n_uvujkwtF3b"
      }
    },
    {
      "cell_type": "markdown",
      "source": [
        "### Gaussiano (desenfoque más natural)\n",
        "\n",
        "Reduce ruido sin perder tanto detalle\n",
        "\n",
        "\n",
        "```\n",
        "gaussian_blur = np.array([\n",
        "    [[1/16], [2/16], [1/16]],\n",
        "    [[2/16], [4/16], [2/16]],\n",
        "    [[1/16], [2/16], [1/16]]\n",
        "], dtype=np.float32)\n",
        "\n",
        "```\n",
        "\n"
      ],
      "metadata": {
        "id": "_icSY--ktPF-"
      }
    },
    {
      "cell_type": "markdown",
      "source": [
        "## Kernel para *realce*"
      ],
      "metadata": {
        "id": "lEbcWH_Utlrb"
      }
    },
    {
      "cell_type": "markdown",
      "source": [
        "### Afilado\n",
        "\n",
        "Resalta detalles en la imagen\n",
        "\n",
        "\n",
        "\n",
        "```\n",
        "sharpen = np.array([\n",
        "    [[0], [-1], [0]],\n",
        "    [[-1], [5], [-1]],\n",
        "    [[0], [-1], [0]]\n",
        "], dtype=np.float32)\n",
        "\n",
        "```\n",
        "\n"
      ],
      "metadata": {
        "id": "2kyWfCj_tpA0"
      }
    },
    {
      "cell_type": "markdown",
      "source": [
        "## Kernel para relieve"
      ],
      "metadata": {
        "id": "rwIok5Qiuag9"
      }
    },
    {
      "cell_type": "markdown",
      "source": [
        "### Emboss\n",
        "\n",
        "Crea efecto de relieve (imagen 3D)\n",
        "\n",
        "\n",
        "\n",
        "```\n",
        "emboss = np.array([\n",
        "    [[-2], [-1], [0]],\n",
        "    [[-1], [1], [1]],\n",
        "    [[0], [1], [2]]\n",
        "], dtype=np.float32)\n",
        "\n",
        "```\n",
        "\n"
      ],
      "metadata": {
        "id": "AFbe9T9TudnE"
      }
    }
  ]
}