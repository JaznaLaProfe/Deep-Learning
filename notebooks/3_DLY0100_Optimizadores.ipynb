{
  "nbformat": 4,
  "nbformat_minor": 0,
  "metadata": {
    "colab": {
      "provenance": []
    },
    "kernelspec": {
      "name": "python3",
      "display_name": "Python 3"
    },
    "language_info": {
      "name": "python"
    }
  },
  "cells": [
    {
      "cell_type": "markdown",
      "source": [
        "# Explicación de concepto de optimizador\n",
        "\n",
        "**Autor:** Jazna Meza Hidalgo\n",
        "\n",
        "**Correo Electrónico:** ja.meza@profesor.duoc.cl\n",
        "\n",
        "**Fecha de Creación:** Febrero de 2025\n",
        "**Versión:** 1.0  \n",
        "\n",
        "---\n",
        "\n",
        "## Descripción\n",
        "\n",
        "Los optimizadores juegan un papel clave en el entrenamiento de redes neuronales, ya que afectan la velocidad y la calidad de la convergencia.\n",
        "\n",
        "Este notebook ofrece una explicación de los optimizadores más usados y ejemplos en Python utilizando TensorFlow/Keras\n",
        "\n",
        "---\n",
        "\n",
        "## Requisitos de Software\n",
        "\n",
        "Este notebook fue desarrollado con Python 3.9. A continuación se listan las bibliotecas necesarias:\n",
        "\n",
        "- tensorflow (2.18.0)\n",
        "\n",
        "Para verificar la versión instalada ejecutar usando el siguiente comando, usando la librería de la cual quieres saber la versión:\n",
        "\n",
        "```bash\n",
        "import tensorflow as tf\n",
        "print(tf.__version__)\n",
        "````\n",
        "\n"
      ],
      "metadata": {
        "id": "_O7LJ7eMe7wx"
      }
    },
    {
      "cell_type": "code",
      "source": [
        "import time\n",
        "import numpy as np\n",
        "import tensorflow as tf\n",
        "import matplotlib.pyplot as plt\n",
        "\n",
        "from tensorflow import keras"
      ],
      "metadata": {
        "id": "FgkvuzBPe4rB"
      },
      "execution_count": 9,
      "outputs": []
    },
    {
      "cell_type": "markdown",
      "source": [
        "# Compilación de la red con distintos optimizadores"
      ],
      "metadata": {
        "id": "SK5Li-H2lBge"
      }
    },
    {
      "cell_type": "markdown",
      "source": [
        "## Descenso de Gradiente Estocástico (SGD)\n",
        "\n",
        "**Características**\n",
        "\n",
        "+ Actualiza los pesos con cada muestra en lugar de usar todo el conjunto de datos.\n",
        "+ Puede ser ruidoso pero ayuda a escapar de mínimos locales.\n",
        "+ Usa una tasa de aprendizaje fija, aunque se puede combinar con momentum.\n",
        "\n",
        "**Pros:**\n",
        "\n",
        "+ Simple y eficiente para datasets grandes.\n",
        "\n",
        "**Contras:**\n",
        "\n",
        "+ Puede ser lento y necesita una tasa de aprendizaje bien ajustada.\n",
        "\n",
        "**Código para compilar una red usando este optimizador**\n",
        "\n",
        "\n",
        "\n",
        "```\n",
        "model.compile(optimizer=tf.keras.optimizers.SGD(learning_rate=0.01),\n",
        "              loss='sparse_categorical_crossentropy',\n",
        "              metrics=['accuracy'])\n",
        "```\n",
        "\n"
      ],
      "metadata": {
        "id": "_ydyBwl5gXa5"
      }
    },
    {
      "cell_type": "markdown",
      "source": [
        "## SGD con Momentum\n",
        "**Características:**\n",
        "\n",
        "+ Agrega un término de momentum para acelerar la convergencia.\n",
        "+ Reduce las oscilaciones en la dirección del gradiente.\n",
        "\n",
        "**Pros:**\n",
        "+ Más rápido que el SGD puro y más estable.\n",
        "\n",
        "**Contras:**\n",
        "+ Puede necesitar ajuste fino de los hiperparámetros.\n",
        "\n",
        "**Código para compilar la red:**\n",
        "\n",
        "\n",
        "```\n",
        "model.compile(optimizer=tf.keras.optimizers.SGD(learning_rate=0.01, momentum=0.9),\n",
        "              loss='sparse_categorical_crossentropy',\n",
        "              metrics=['accuracy'])\n",
        "```\n",
        "\n"
      ],
      "metadata": {
        "id": "F7h5zOKphK-T"
      }
    },
    {
      "cell_type": "markdown",
      "source": [
        "## RMSprop (Root Mean Square Propagation)\n",
        "**Características:**\n",
        "\n",
        "+ Ajusta la tasa de aprendizaje para cada parámetro de manera adaptativa.\n",
        "+ Usa el promedio exponencial de los cuadrados de gradientes anteriores.\n",
        "\n",
        "**Pros:**\n",
        "+ Bueno para problemas con datos no estacionarios.\n",
        "\n",
        "**Contras:**\n",
        "+ Puede ser ineficiente en ciertos problemas de optimización.\n",
        "\n",
        "Para compilar una red:\n",
        "\n",
        "```\n",
        "model.compile(optimizer=tf.keras.optimizers.RMSprop(learning_rate=0.001),\n",
        "              loss='sparse_categorical_crossentropy',\n",
        "              metrics=['accuracy'])\n",
        "```\n",
        "\n",
        "\n"
      ],
      "metadata": {
        "id": "ib4T7X3PhjbW"
      }
    },
    {
      "cell_type": "markdown",
      "source": [
        "## Adam (Adaptive Moment Estimation)\n",
        "**Características:**\n",
        "\n",
        "+ Combina lo mejor de RMSprop y Momentum.\n",
        "+ Usa momentos de primer y segundo orden para actualizar los pesos.\n",
        "\n",
        "**Pros:**\n",
        "+ Generalmente es el mejor optimizador para la mayoría de los casos.\n",
        "\n",
        "**Contras:**\n",
        "+ Puede no generalizar bien en algunos problemas específicos.\n",
        "\n",
        "**Código para compilar la red**\n",
        "\n",
        "```\n",
        "model.compile(optimizer=tf.keras.optimizers.Adam(learning_rate=0.001),\n",
        "              loss='sparse_categorical_crossentropy',\n",
        "              metrics=['accuracy'])\n",
        "\n",
        "```"
      ],
      "metadata": {
        "id": "GPM_vzK1jatt"
      }
    },
    {
      "cell_type": "markdown",
      "source": [
        "## AdaGrad (Adaptive Gradient)\n",
        "**Características:**\n",
        "\n",
        "+ Ajusta la tasa de aprendizaje según el histórico de gradientes.\n",
        "+ Tiende a hacer que los parámetros dejen de actualizarse en largas iteraciones.\n",
        "\n",
        "**Pros:**\n",
        "+ Bueno para datos dispersos.\n",
        "\n",
        "**Contras:**\n",
        "+ La tasa de aprendizaje decrece demasiado rápido.\n",
        "\n",
        "**Código para compilar la red**\n",
        "\n",
        "```\n",
        "model.compile(optimizer=tf.keras.optimizers.Adagrad(learning_rate=0.01),\n",
        "              loss='sparse_categorical_crossentropy',\n",
        "              metrics=['accuracy'])\n",
        "```\n",
        "\n",
        "\n",
        "\n"
      ],
      "metadata": {
        "id": "wyodGtcakL1M"
      }
    },
    {
      "cell_type": "markdown",
      "source": [
        "## Adamax (Versión mejorada de Adam)\n",
        "**Características:**\n",
        "\n",
        "+ Similar a Adam pero con una normalización diferente.\n",
        "+ Más robusto en ciertos casos con datos ruidosos.\n",
        "\n",
        "**Pros:**\n",
        "+ Funciona bien en problemas con datos de gran magnitud.\n",
        "\n",
        "**Contras:**\n",
        "+ Menos comúnmente usado que Adam.\n",
        "\n",
        "**Código para compilar la red**\n",
        "\n",
        "\n",
        "```\n",
        "model.compile(optimizer=tf.keras.optimizers.Adamax(learning_rate=0.002),\n",
        "              loss='sparse_categorical_crossentropy',\n",
        "              metrics=['accuracy'])\n",
        "\n",
        "```\n",
        "\n"
      ],
      "metadata": {
        "id": "6IdgFQ6Vkd-F"
      }
    },
    {
      "cell_type": "markdown",
      "source": [
        "## Nadam (Adam + Nesterov Momentum)\n",
        "**Características:**\n",
        "\n",
        "+ Variante de Adam con la técnica de Nesterov Accelerated Gradient (NAG).\n",
        "+ Tiende a converger más rápido que Adam en algunos casos.\n",
        "\n",
        "**Pros:**\n",
        "\n",
        "+ Más rápido en algunas arquitecturas.\n",
        "\n",
        "**Contras:**\n",
        "+ Puede ser menos estable en algunos problemas.\n",
        "\n",
        "**Código para compilar la red**\n",
        "\n",
        "\n",
        "```\n",
        "model.compile(optimizer=tf.keras.optimizers.Nadam(learning_rate=0.002),\n",
        "              loss='sparse_categorical_crossentropy',\n",
        "              metrics=['accuracy'])\n",
        "\n",
        "```\n",
        "\n"
      ],
      "metadata": {
        "id": "M8bdqqFSkfOj"
      }
    },
    {
      "cell_type": "markdown",
      "source": [
        "# Entrenamiento de la red\n",
        "\n",
        "Una vez que se haya compilado la red se debe entrenar y eso se realiza usando la línea de código:\n",
        "\n",
        "```\n",
        "# Entrenar el modelo\n",
        "model.fit(x_train, y_train, epochs=5)\n",
        "```\n",
        "\n"
      ],
      "metadata": {
        "id": "jok4oMLJizwy"
      }
    },
    {
      "cell_type": "markdown",
      "source": [
        "# Funcionamiento completo"
      ],
      "metadata": {
        "id": "rkWFc8-UlXl9"
      }
    },
    {
      "cell_type": "code",
      "source": [
        "# Generar datos de ejemplo\n",
        "np.random.seed(29)\n",
        "X = np.random.rand(1000, 10)\n",
        "y = np.random.randint(0, 2, size=(1000,))"
      ],
      "metadata": {
        "id": "1f4ljttZnn9V"
      },
      "execution_count": 19,
      "outputs": []
    },
    {
      "cell_type": "code",
      "source": [
        "X.shape"
      ],
      "metadata": {
        "colab": {
          "base_uri": "https://localhost:8080/"
        },
        "id": "k5NYrQV_oSlF",
        "outputId": "ed695b1b-115e-4d12-f3e3-c6368739c660"
      },
      "execution_count": 21,
      "outputs": [
        {
          "output_type": "execute_result",
          "data": {
            "text/plain": [
              "(1000, 10)"
            ]
          },
          "metadata": {},
          "execution_count": 21
        }
      ]
    },
    {
      "cell_type": "code",
      "source": [
        "y"
      ],
      "metadata": {
        "colab": {
          "base_uri": "https://localhost:8080/"
        },
        "id": "9FTjmXcQnpSu",
        "outputId": "2a1e3035-7916-441b-b7f2-237a95c2f032"
      },
      "execution_count": 14,
      "outputs": [
        {
          "output_type": "execute_result",
          "data": {
            "text/plain": [
              "array([1, 1, 0, 1, 1, 0, 1, 1, 1, 1, 1, 0, 1, 0, 1, 1, 0, 1, 1, 0, 0, 1,\n",
              "       1, 1, 0, 1, 1, 1, 0, 0, 1, 1, 0, 0, 0, 1, 1, 1, 1, 0, 1, 1, 0, 1,\n",
              "       1, 0, 1, 1, 1, 1, 0, 1, 1, 0, 1, 1, 0, 1, 1, 1, 0, 0, 0, 1, 0, 1,\n",
              "       0, 0, 1, 0, 1, 1, 1, 0, 1, 1, 1, 1, 1, 1, 1, 1, 0, 0, 0, 0, 1, 1,\n",
              "       0, 1, 0, 1, 0, 0, 0, 0, 0, 0, 1, 0, 1, 1, 0, 0, 0, 0, 1, 1, 1, 0,\n",
              "       1, 0, 0, 1, 1, 0, 1, 0, 1, 0, 0, 1, 0, 1, 0, 1, 1, 0, 1, 0, 1, 0,\n",
              "       1, 0, 0, 0, 0, 1, 0, 0, 0, 1, 0, 0, 0, 1, 0, 1, 0, 1, 0, 0, 0, 1,\n",
              "       1, 0, 0, 1, 1, 1, 1, 1, 1, 1, 1, 1, 0, 0, 1, 1, 0, 1, 0, 0, 1, 1,\n",
              "       1, 1, 0, 1, 1, 0, 0, 1, 0, 1, 0, 0, 1, 1, 1, 1, 0, 0, 1, 1, 0, 0,\n",
              "       0, 0, 0, 1, 1, 1, 0, 1, 1, 0, 0, 0, 1, 0, 1, 1, 0, 1, 0, 0, 0, 1,\n",
              "       0, 1, 1, 1, 0, 1, 0, 1, 0, 0, 1, 0, 0, 0, 0, 0, 1, 0, 0, 0, 1, 0,\n",
              "       0, 0, 1, 0, 1, 0, 1, 0, 0, 1, 0, 1, 0, 1, 0, 1, 1, 0, 1, 1, 0, 1,\n",
              "       0, 0, 1, 1, 1, 1, 1, 0, 1, 1, 0, 1, 1, 1, 0, 0, 0, 0, 0, 1, 1, 1,\n",
              "       1, 0, 0, 1, 1, 1, 1, 0, 0, 1, 1, 0, 0, 0, 0, 0, 1, 0, 0, 0, 1, 0,\n",
              "       0, 1, 0, 0, 0, 1, 0, 1, 0, 0, 1, 0, 0, 0, 0, 0, 1, 0, 1, 0, 0, 0,\n",
              "       1, 0, 1, 0, 1, 1, 0, 1, 1, 1, 0, 0, 1, 1, 1, 0, 1, 0, 1, 1, 1, 0,\n",
              "       0, 0, 1, 1, 0, 0, 1, 1, 1, 0, 0, 0, 0, 0, 1, 1, 0, 1, 0, 1, 0, 0,\n",
              "       1, 0, 1, 1, 0, 0, 0, 0, 0, 1, 1, 0, 1, 1, 1, 0, 1, 1, 1, 0, 0, 1,\n",
              "       0, 0, 1, 1, 0, 1, 1, 0, 1, 1, 1, 0, 1, 0, 0, 0, 0, 1, 0, 0, 0, 0,\n",
              "       1, 1, 0, 1, 0, 0, 1, 1, 1, 1, 0, 1, 1, 1, 0, 1, 1, 0, 1, 0, 0, 1,\n",
              "       0, 1, 1, 1, 1, 1, 0, 0, 0, 0, 1, 0, 0, 0, 1, 0, 0, 1, 1, 0, 1, 0,\n",
              "       1, 1, 0, 0, 1, 1, 0, 1, 1, 1, 0, 1, 0, 1, 1, 0, 0, 0, 1, 1, 0, 0,\n",
              "       1, 1, 0, 0, 0, 1, 0, 1, 1, 0, 1, 1, 0, 0, 0, 1, 1, 1, 1, 1, 0, 1,\n",
              "       0, 0, 1, 1, 1, 0, 1, 1, 1, 1, 0, 1, 0, 0, 1, 0, 0, 1, 0, 0, 0, 0,\n",
              "       0, 0, 0, 0, 1, 1, 1, 1, 0, 0, 1, 0, 1, 0, 1, 1, 1, 1, 0, 1, 0, 1,\n",
              "       0, 0, 1, 0, 1, 1, 1, 0, 1, 0, 1, 1, 1, 1, 1, 1, 1, 1, 1, 0, 0, 0,\n",
              "       1, 1, 1, 1, 1, 1, 0, 1, 1, 1, 1, 1, 0, 0, 1, 1, 0, 1, 0, 1, 1, 0,\n",
              "       0, 1, 0, 1, 0, 1, 1, 1, 1, 0, 1, 1, 0, 0, 1, 0, 1, 0, 1, 0, 0, 1,\n",
              "       0, 1, 1, 0, 1, 0, 0, 0, 1, 1, 0, 0, 0, 0, 0, 0, 0, 1, 1, 1, 0, 1,\n",
              "       1, 0, 0, 1, 0, 0, 1, 0, 0, 0, 1, 0, 0, 1, 0, 0, 1, 0, 0, 0, 0, 1,\n",
              "       1, 0, 0, 0, 0, 1, 1, 1, 0, 1, 1, 1, 1, 0, 1, 0, 1, 1, 0, 0, 0, 0,\n",
              "       1, 1, 0, 1, 1, 1, 1, 1, 0, 0, 0, 1, 0, 1, 0, 1, 0, 1, 1, 1, 1, 1,\n",
              "       1, 0, 0, 0, 1, 0, 1, 1, 0, 1, 1, 0, 1, 0, 1, 1, 0, 1, 0, 1, 0, 1,\n",
              "       0, 0, 0, 1, 1, 1, 0, 1, 0, 0, 1, 0, 1, 0, 1, 0, 1, 1, 0, 1, 0, 0,\n",
              "       1, 0, 1, 1, 1, 1, 1, 0, 0, 0, 1, 1, 0, 1, 0, 1, 0, 1, 0, 0, 0, 0,\n",
              "       0, 1, 0, 1, 1, 1, 0, 0, 1, 1, 1, 0, 0, 0, 1, 0, 1, 1, 1, 1, 1, 0,\n",
              "       0, 1, 1, 1, 1, 1, 1, 1, 1, 1, 0, 1, 1, 0, 1, 1, 0, 1, 1, 0, 0, 1,\n",
              "       1, 1, 1, 1, 1, 0, 0, 1, 0, 1, 0, 0, 0, 0, 1, 0, 1, 1, 1, 1, 1, 0,\n",
              "       1, 1, 1, 0, 0, 1, 1, 0, 1, 1, 0, 0, 1, 1, 1, 1, 1, 1, 0, 1, 1, 1,\n",
              "       0, 1, 0, 1, 0, 1, 1, 0, 0, 1, 0, 0, 1, 0, 1, 1, 0, 1, 1, 0, 0, 0,\n",
              "       1, 0, 0, 0, 1, 0, 0, 0, 0, 1, 0, 0, 1, 1, 1, 1, 1, 0, 0, 1, 1, 0,\n",
              "       1, 0, 1, 1, 0, 1, 1, 1, 0, 1, 0, 0, 1, 1, 1, 0, 1, 0, 1, 1, 0, 1,\n",
              "       1, 0, 1, 0, 0, 0, 0, 0, 0, 0, 0, 0, 0, 0, 0, 0, 0, 1, 1, 1, 1, 0,\n",
              "       1, 0, 0, 0, 1, 1, 1, 0, 0, 0, 1, 0, 0, 1, 1, 0, 1, 0, 0, 1, 0, 1,\n",
              "       1, 0, 1, 0, 0, 0, 0, 0, 1, 1, 0, 0, 1, 0, 1, 1, 0, 0, 0, 0, 1, 0,\n",
              "       0, 1, 1, 1, 1, 1, 1, 1, 0, 1])"
            ]
          },
          "metadata": {},
          "execution_count": 14
        }
      ]
    },
    {
      "cell_type": "code",
      "source": [
        "# Definir los optimizadores a evaluar\n",
        "optimizers = {\n",
        "    \"SGD\": tf.keras.optimizers.SGD(),\n",
        "    \"SGD + Momentum\": tf.keras.optimizers.SGD(momentum=0.9),\n",
        "    \"RMSprop\": tf.keras.optimizers.RMSprop(),\n",
        "    \"Adam\": tf.keras.optimizers.Adam(),\n",
        "    \"AdaGrad\": tf.keras.optimizers.Adagrad(),\n",
        "    \"Adamax\": tf.keras.optimizers.Adamax(),\n",
        "    \"Nadam\": tf.keras.optimizers.Nadam(),\n",
        "}\n",
        "\n",
        "# Almacenar tiempos de entrenamiento\n",
        "training_times = {}\n",
        "\n",
        "# Definir la arquitectura del modelo\n",
        "def create_model(name_network = \"Una_red\"):\n",
        "  red = keras.Sequential(name=name_network)\n",
        "  red.add(keras.layers.Input(shape=(10,), name='entrada'))\n",
        "  red.add(keras.layers.Dense(64, activation='relu', name='primera_capa'))\n",
        "  red.add(keras.layers.Dense(32, activation='relu', name='segunda_capa'))\n",
        "  red.add(keras.layers.Dense(1, activation='sigmoid', name='capa_de_salida'))\n",
        "  return red\n",
        "\n",
        "# Entrenar el modelo con cada optimizador\n",
        "for opt_name, optimizer in optimizers.items():\n",
        "  model = create_model()\n",
        "  model.compile(optimizer=optimizer, loss=\"binary_crossentropy\", metrics=[\"accuracy\"])\n",
        "\n",
        "  # Medir el tiempo de entrenamiento\n",
        "  start_time = time.time()\n",
        "  model.fit(X, y, epochs=10, batch_size=32, verbose=0)  # Entrenar por 10 épocas\n",
        "  end_time = time.time()\n",
        "\n",
        "  training_times[opt_name] = end_time - start_time\n",
        "  print(f\"{opt_name: >20} tomó {training_times[opt_name]:.4f} segundos\")\n",
        "\n",
        "# Graficar los tiempos de entrenamiento\n",
        "plt.figure(figsize=(10, 5))\n",
        "plt.bar(training_times.keys(), training_times.values(), color=\"skyblue\")\n",
        "plt.xlabel(\"Optimizador\", fontsize=14, fontweight=\"bold\")\n",
        "plt.ylabel(\"Tiempo de entrenamiento (s)\", fontsize=14, fontweight=\"bold\")\n",
        "plt.title(\"Comparación de Tiempos de Entrenamiento por Optimizador\", fontsize=16, fontweight=\"bold\")\n",
        "plt.xticks(rotation=45)\n",
        "plt.show()\n"
      ],
      "metadata": {
        "colab": {
          "base_uri": "https://localhost:8080/",
          "height": 705
        },
        "id": "IdLLEgKQiazu",
        "outputId": "31f913dc-270b-4f19-f48b-1a7ea15491b6"
      },
      "execution_count": 18,
      "outputs": [
        {
          "output_type": "stream",
          "name": "stdout",
          "text": [
            "                 SGD tomó 1.6546 segundos\n",
            "      SGD + Momentum tomó 1.7973 segundos\n",
            "             RMSprop tomó 2.0934 segundos\n",
            "                Adam tomó 3.1173 segundos\n",
            "             AdaGrad tomó 2.2855 segundos\n",
            "              Adamax tomó 3.0435 segundos\n",
            "               Nadam tomó 2.9201 segundos\n"
          ]
        },
        {
          "output_type": "display_data",
          "data": {
            "text/plain": [
              "<Figure size 1000x500 with 1 Axes>"
            ],
            "image/png": "[encoded data removed]"
          },
          "metadata": {}
        }
      ]
    },
    {
      "cell_type": "markdown",
      "source": [
        "# Tabla resumen\n",
        "\n",
        "| Optimizador     | Adaptabilidad de la Tasa de Aprendizaje | Velocidad de Convergencia | Recomendado para                          |\n",
        "|---------------|---------------------------------|----------------------|--------------------------------|\n",
        "| **SGD**       | No                              | Lento                | Problemas convexos y entrenamiento en línea |\n",
        "| **SGD + Momentum** | No                          | Más rápido           | Modelos profundos con optimización difícil |\n",
        "| **RMSprop**   | Sí                              | Medio                | Series de tiempo y datos no estacionarios |\n",
        "| **Adam**      | Sí                              | Rápido               | Casi todos los problemas de aprendizaje profundo |\n",
        "| **AdaGrad**   | Sí                              | Medio                | Datos dispersos y NLP |\n",
        "| **Adamax**    | Sí                              | Rápido               | Datos con valores grandes |\n",
        "| **Nadam**     | Sí                              | Más rápido que Adam  | Modelos grandes con optimización difícil |\n"
      ],
      "metadata": {
        "id": "yeN0sSfsiEc2"
      }
    }
  ]
}