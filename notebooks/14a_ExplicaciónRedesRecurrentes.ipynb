{
  "nbformat": 4,
  "nbformat_minor": 0,
  "metadata": {
    "colab": {
      "provenance": []
    },
    "kernelspec": {
      "name": "python3",
      "display_name": "Python 3"
    },
    "language_info": {
      "name": "python"
    }
  },
  "cells": [
    {
      "cell_type": "markdown",
      "source": [
        "# Explicación de redes recurrentes\n",
        "\n",
        "**Autor:** Jazna Meza Hidalgo\n",
        "\n",
        "**Correo Electrónico:** ja.meza@profesor.duoc.cl\n",
        "\n",
        "**Fecha de Creación:** Mayo de 2025\n",
        "\n",
        "**Versión:** 1.0  \n",
        "\n",
        "---\n",
        "\n",
        "## Descripción\n",
        "\n",
        "En este notebook explica los conceptos relacionados con redes recurrentes.\n",
        "\n",
        "---\n",
        "\n",
        "## Requisitos de Software\n",
        "\n",
        "Este notebook fue desarrollado con Python 3.9. A continuación se listan las bibliotecas necesarias:\n",
        "\n",
        "- numpy (2.0.2)\n",
        "- tensorflow (2.18.0)\n",
        "\n",
        "Para verificar la versión instalada ejecutar usando el siguiente comando, usando la librería de la cual quieres saber la versión:\n",
        "\n",
        "```bash\n",
        "import pandas as pd\n",
        "print(pd.__version__)\n",
        "````\n"
      ],
      "metadata": {
        "id": "4GdrfL4RRuKK"
      }
    },
    {
      "cell_type": "code",
      "source": [
        "import numpy as np\n",
        "import tensorflow as tf"
      ],
      "metadata": {
        "id": "-vs3Q4WrBnzN"
      },
      "execution_count": null,
      "outputs": []
    },
    {
      "cell_type": "code",
      "source": [
        "tf.__version__"
      ],
      "metadata": {
        "colab": {
          "base_uri": "https://localhost:8080/",
          "height": 35
        },
        "id": "YGQ1rMTQjgVA",
        "outputId": "387946cd-3b8b-4198-8658-1e9990d5bcad"
      },
      "execution_count": null,
      "outputs": [
        {
          "output_type": "execute_result",
          "data": {
            "text/plain": [
              "'2.18.0'"
            ],
            "application/vnd.google.colaboratory.intrinsic+json": {
              "type": "string"
            }
          },
          "metadata": {},
          "execution_count": 73
        }
      ]
    },
    {
      "cell_type": "code",
      "source": [
        "np.__version__"
      ],
      "metadata": {
        "colab": {
          "base_uri": "https://localhost:8080/",
          "height": 35
        },
        "id": "qns2hsKhjtkX",
        "outputId": "ab35d742-f7c2-490f-e7cd-7dd61cd11f62"
      },
      "execution_count": null,
      "outputs": [
        {
          "output_type": "execute_result",
          "data": {
            "text/plain": [
              "'2.0.2'"
            ],
            "application/vnd.google.colaboratory.intrinsic+json": {
              "type": "string"
            }
          },
          "metadata": {},
          "execution_count": 74
        }
      ]
    },
    {
      "cell_type": "markdown",
      "source": [
        "# Modelo simple"
      ],
      "metadata": {
        "id": "s7D8FvslBqwb"
      }
    },
    {
      "cell_type": "markdown",
      "source": [
        "## Datos de entrada"
      ],
      "metadata": {
        "id": "LhG6BJuSBvax"
      }
    },
    {
      "cell_type": "code",
      "source": [
        "# Datos de entrada (texto y etiquetas)\n",
        "frases = [\n",
        "    \"Me encanta este producto\",\n",
        "    \"Odio este lugar\",\n",
        "    \"Qué gran experiencia\",\n",
        "    \"Muy mala atención\",\n",
        "    \"Volveré sin duda\",\n",
        "    \"No lo recomiendo\"\n",
        "]\n",
        "etiquetas = [1, 0, 1, 0, 1, 0]  # 1 = positivo, 0 = negativo"
      ],
      "metadata": {
        "id": "DGWEvF-oBprZ"
      },
      "execution_count": null,
      "outputs": []
    },
    {
      "cell_type": "markdown",
      "source": [
        "## Tokenización"
      ],
      "metadata": {
        "id": "l4RCKxnKBx5r"
      }
    },
    {
      "cell_type": "markdown",
      "source": [
        "✅ Consiste en convertir texto en secuencia de enteros"
      ],
      "metadata": {
        "id": "9pVJFpnDD19K"
      }
    },
    {
      "cell_type": "code",
      "source": [
        "tokenizer = tf.keras.preprocessing.text.Tokenizer(num_words=1000, oov_token=\"<OOV>\")\n",
        "tokenizer.fit_on_texts(frases)\n",
        "secuencias = tokenizer.texts_to_sequences(frases)"
      ],
      "metadata": {
        "id": "YcgjtDozB4Cz"
      },
      "execution_count": null,
      "outputs": []
    },
    {
      "cell_type": "code",
      "source": [
        "secuencias"
      ],
      "metadata": {
        "colab": {
          "base_uri": "https://localhost:8080/"
        },
        "id": "pcUMjIHpcz8N",
        "outputId": "49498988-e47e-41b6-cb0c-65716d0f89f8"
      },
      "execution_count": null,
      "outputs": [
        {
          "output_type": "execute_result",
          "data": {
            "text/plain": [
              "[[3, 4, 2, 5], [6, 2, 7], [8, 9, 10], [11, 12, 13], [14, 15, 16], [17, 18, 19]]"
            ]
          },
          "metadata": {},
          "execution_count": 58
        }
      ]
    },
    {
      "cell_type": "code",
      "source": [
        "print(tokenizer.word_index)"
      ],
      "metadata": {
        "colab": {
          "base_uri": "https://localhost:8080/"
        },
        "id": "tAnlWOG9dKcr",
        "outputId": "1cca3cf8-93b6-4015-de50-a66e23a92630"
      },
      "execution_count": null,
      "outputs": [
        {
          "output_type": "stream",
          "name": "stdout",
          "text": [
            "{'<OOV>': 1, 'este': 2, 'me': 3, 'encanta': 4, 'producto': 5, 'odio': 6, 'lugar': 7, 'qué': 8, 'gran': 9, 'experiencia': 10, 'muy': 11, 'mala': 12, 'atención': 13, 'volveré': 14, 'sin': 15, 'duda': 16, 'no': 17, 'lo': 18, 'recomiendo': 19}\n"
          ]
        }
      ]
    },
    {
      "cell_type": "code",
      "source": [
        "tokenizer.word_counts"
      ],
      "metadata": {
        "colab": {
          "base_uri": "https://localhost:8080/"
        },
        "id": "kd59anmQdw4z",
        "outputId": "16cb0a5f-b4eb-45e0-d3b6-12ba934915be"
      },
      "execution_count": null,
      "outputs": [
        {
          "output_type": "execute_result",
          "data": {
            "text/plain": [
              "OrderedDict([('me', 1),\n",
              "             ('encanta', 1),\n",
              "             ('este', 2),\n",
              "             ('producto', 1),\n",
              "             ('odio', 1),\n",
              "             ('lugar', 1),\n",
              "             ('qué', 1),\n",
              "             ('gran', 1),\n",
              "             ('experiencia', 1),\n",
              "             ('muy', 1),\n",
              "             ('mala', 1),\n",
              "             ('atención', 1),\n",
              "             ('volveré', 1),\n",
              "             ('sin', 1),\n",
              "             ('duda', 1),\n",
              "             ('no', 1),\n",
              "             ('lo', 1),\n",
              "             ('recomiendo', 1)])"
            ]
          },
          "metadata": {},
          "execution_count": 60
        }
      ]
    },
    {
      "cell_type": "markdown",
      "source": [
        "❓ **¿Qué representa el argumento `oov_token`?**\n",
        "\n",
        "Primero OOV significa `Out-of-vocabulatory`\n",
        "\n",
        "Al utilizarlo se evitan errores en la inferencia con palabras nuevas permitiendo, así, que todas las entradas tengan una representación válida."
      ],
      "metadata": {
        "id": "yPMh9Oobe7Iw"
      }
    },
    {
      "cell_type": "markdown",
      "source": [
        "## Vectorización"
      ],
      "metadata": {
        "id": "yiwgBPb1B43D"
      }
    },
    {
      "cell_type": "markdown",
      "source": [
        "✅ Forma en la que el texto se transforma en tensores para el modelo"
      ],
      "metadata": {
        "id": "aEp8umHbEFUd"
      }
    },
    {
      "cell_type": "code",
      "source": [
        "# padding para igualar largo\n",
        "X = tf.keras.preprocessing.sequence.pad_sequences(secuencias, padding='post')\n",
        "print(\"Secuencias tokenizadas y vectorizadas:\")\n",
        "print(X)"
      ],
      "metadata": {
        "colab": {
          "base_uri": "https://localhost:8080/"
        },
        "id": "mid1ONwGB-oV",
        "outputId": "d8dd773c-2c2c-42b6-9fd6-ab3ac7d4fd69"
      },
      "execution_count": null,
      "outputs": [
        {
          "output_type": "stream",
          "name": "stdout",
          "text": [
            "Secuencias tokenizadas y vectorizadas:\n",
            "[[ 3  4  2  5]\n",
            " [ 6  2  7  0]\n",
            " [ 8  9 10  0]\n",
            " [11 12 13  0]\n",
            " [14 15 16  0]\n",
            " [17 18 19  0]]\n"
          ]
        }
      ]
    },
    {
      "cell_type": "code",
      "source": [
        "X = np.array(X, dtype=np.int32)\n",
        "etiquetas = np.array(etiquetas, dtype=np.float32)"
      ],
      "metadata": {
        "id": "-z9JvMnuT3Yx"
      },
      "execution_count": null,
      "outputs": []
    },
    {
      "cell_type": "code",
      "source": [
        "etiquetas.shape"
      ],
      "metadata": {
        "id": "LBqzOxRTmAMm",
        "outputId": "a572ca2c-96ca-41b3-f344-883a1498a692",
        "colab": {
          "base_uri": "https://localhost:8080/"
        }
      },
      "execution_count": null,
      "outputs": [
        {
          "output_type": "execute_result",
          "data": {
            "text/plain": [
              "(6,)"
            ]
          },
          "metadata": {},
          "execution_count": 75
        }
      ]
    },
    {
      "cell_type": "markdown",
      "source": [
        "## Conceptos preliminares\n",
        "\n",
        "+ Capa `Embedding`: cada entero (palabra) se convierte en un vector denso entrenable\n",
        "\n",
        "+ Capa `SpatialDropout1D`: apaga vectores completos (no valores individuales) para mejorar la generalización, es el mismo conceptos de regularización revisado en las redes anteriores.\n",
        "\n",
        "+ Capa `GlobalPooling`: resume la información por frase en un solo vector (promedio)\n",
        "\n"
      ],
      "metadata": {
        "id": "deTftaarEQ2e"
      }
    },
    {
      "cell_type": "markdown",
      "source": [
        "## 🧠 `Vector denso entrenable`\n",
        "\n",
        "### Definición\n",
        "Es una representación numérica (vector) que el modelo aprende y ajusta durante el entrenamiento, de forma que contenga la información útil sobre un objeto en un espacio de dimensiones reducidas.\n",
        "\n",
        "### Analogía\n",
        "\n",
        "Imagine que se quiere representar la palabra \"amor\". Dado que las redes no entienden texto, la palabra no se puede entregar a una red neuronal.\n",
        "\n",
        "Entonces, antes la palabra se representa como un **vector aleatorio**, por ejemplo:\n",
        "\n",
        "````\n",
        "\"amor\" -> [0.12, -0.07, 0.31, 0.05, 0.91]\n",
        "````\n",
        "\n",
        "Después del entrenamiento, el modelo va **ajustando** los valores del vector para que reflejen de mejor forma el **significado y el uso** de la palabra según el problema.\n",
        "\n",
        "Si \"amor\" aparece en contextos positivos, su vector se va acercando al de palabras como \"alegría\" o \"felicidad\".\n",
        "\n",
        "Si \"odio\" aparece en contextos opuestos, su vector se \"aleja\" del de \"amor\"\n",
        "\n",
        "❓ **¿Por qué denso?**\n",
        "\n",
        "Porque todos los elementos del vector tienen valores numéricos reales (a diferencia de vectores dispersos como lo es one-hot encoding donde sólo hay un 1 y muchos ceros.\n",
        "\n",
        "El vector tiene una dimensión pequeña, sin embargo, captura mucho significado.\n",
        "\n",
        "❓ **¿Por qué entrenable?**\n",
        "\n",
        "Porque estos vectores no son fijos: se actualzian automáticamente junto con los pesos del modelo para mejorar su desempeño en una tarea.\n",
        "\n",
        "\n",
        "*Un vector denso entrenable es como un \"perfil de significado\" que el moelo le da a una palabra y que se va puliendo a medida que aprende.*\n"
      ],
      "metadata": {
        "id": "ky1CsThIZwZU"
      }
    },
    {
      "cell_type": "markdown",
      "source": [
        "## Creación de la red"
      ],
      "metadata": {
        "id": "ncCC9n7RB-Zc"
      }
    },
    {
      "cell_type": "code",
      "execution_count": null,
      "metadata": {
        "colab": {
          "base_uri": "https://localhost:8080/",
          "height": 275
        },
        "id": "bDoUuHGHBeET",
        "outputId": "b3f20198-76c1-4de4-afa3-57f6e776efb5"
      },
      "outputs": [
        {
          "output_type": "display_data",
          "data": {
            "text/plain": [
              "\u001b[1mModel: \"red_simple\"\u001b[0m\n"
            ],
            "text/html": [
              "<pre style=\"white-space:pre;overflow-x:auto;line-height:normal;font-family:Menlo,'DejaVu Sans Mono',consolas,'Courier New',monospace\"><span style=\"font-weight: bold\">Model: \"red_simple\"</span>\n",
              "</pre>\n"
            ]
          },
          "metadata": {}
        },
        {
          "output_type": "display_data",
          "data": {
            "text/plain": [
              "┏━━━━━━━━━━━━━━━━━━━━━━━━━━━━━━━━━┳━━━━━━━━━━━━━━━━━━━━━━━━┳━━━━━━━━━━━━━━━┓\n",
              "┃\u001b[1m \u001b[0m\u001b[1mLayer (type)                   \u001b[0m\u001b[1m \u001b[0m┃\u001b[1m \u001b[0m\u001b[1mOutput Shape          \u001b[0m\u001b[1m \u001b[0m┃\u001b[1m \u001b[0m\u001b[1m      Param #\u001b[0m\u001b[1m \u001b[0m┃\n",
              "┡━━━━━━━━━━━━━━━━━━━━━━━━━━━━━━━━━╇━━━━━━━━━━━━━━━━━━━━━━━━╇━━━━━━━━━━━━━━━┩\n",
              "│ Capa_Embedding (\u001b[38;5;33mEmbedding\u001b[0m)      │ (\u001b[38;5;45mNone\u001b[0m, \u001b[38;5;34m4\u001b[0m, \u001b[38;5;34m8\u001b[0m)           │         \u001b[38;5;34m8,000\u001b[0m │\n",
              "├─────────────────────────────────┼────────────────────────┼───────────────┤\n",
              "│ Capa_Dropout (\u001b[38;5;33mSpatialDropout1D\u001b[0m) │ (\u001b[38;5;45mNone\u001b[0m, \u001b[38;5;34m4\u001b[0m, \u001b[38;5;34m8\u001b[0m)           │             \u001b[38;5;34m0\u001b[0m │\n",
              "├─────────────────────────────────┼────────────────────────┼───────────────┤\n",
              "│ Capa_Pooling                    │ (\u001b[38;5;45mNone\u001b[0m, \u001b[38;5;34m8\u001b[0m)              │             \u001b[38;5;34m0\u001b[0m │\n",
              "│ (\u001b[38;5;33mGlobalAveragePooling1D\u001b[0m)        │                        │               │\n",
              "├─────────────────────────────────┼────────────────────────┼───────────────┤\n",
              "│ Capa_Salida (\u001b[38;5;33mDense\u001b[0m)             │ (\u001b[38;5;45mNone\u001b[0m, \u001b[38;5;34m1\u001b[0m)              │             \u001b[38;5;34m9\u001b[0m │\n",
              "└─────────────────────────────────┴────────────────────────┴───────────────┘\n"
            ],
            "text/html": [
              "<pre style=\"white-space:pre;overflow-x:auto;line-height:normal;font-family:Menlo,'DejaVu Sans Mono',consolas,'Courier New',monospace\">┏━━━━━━━━━━━━━━━━━━━━━━━━━━━━━━━━━┳━━━━━━━━━━━━━━━━━━━━━━━━┳━━━━━━━━━━━━━━━┓\n",
              "┃<span style=\"font-weight: bold\"> Layer (type)                    </span>┃<span style=\"font-weight: bold\"> Output Shape           </span>┃<span style=\"font-weight: bold\">       Param # </span>┃\n",
              "┡━━━━━━━━━━━━━━━━━━━━━━━━━━━━━━━━━╇━━━━━━━━━━━━━━━━━━━━━━━━╇━━━━━━━━━━━━━━━┩\n",
              "│ Capa_Embedding (<span style=\"color: #0087ff; text-decoration-color: #0087ff\">Embedding</span>)      │ (<span style=\"color: #00d7ff; text-decoration-color: #00d7ff\">None</span>, <span style=\"color: #00af00; text-decoration-color: #00af00\">4</span>, <span style=\"color: #00af00; text-decoration-color: #00af00\">8</span>)           │         <span style=\"color: #00af00; text-decoration-color: #00af00\">8,000</span> │\n",
              "├─────────────────────────────────┼────────────────────────┼───────────────┤\n",
              "│ Capa_Dropout (<span style=\"color: #0087ff; text-decoration-color: #0087ff\">SpatialDropout1D</span>) │ (<span style=\"color: #00d7ff; text-decoration-color: #00d7ff\">None</span>, <span style=\"color: #00af00; text-decoration-color: #00af00\">4</span>, <span style=\"color: #00af00; text-decoration-color: #00af00\">8</span>)           │             <span style=\"color: #00af00; text-decoration-color: #00af00\">0</span> │\n",
              "├─────────────────────────────────┼────────────────────────┼───────────────┤\n",
              "│ Capa_Pooling                    │ (<span style=\"color: #00d7ff; text-decoration-color: #00d7ff\">None</span>, <span style=\"color: #00af00; text-decoration-color: #00af00\">8</span>)              │             <span style=\"color: #00af00; text-decoration-color: #00af00\">0</span> │\n",
              "│ (<span style=\"color: #0087ff; text-decoration-color: #0087ff\">GlobalAveragePooling1D</span>)        │                        │               │\n",
              "├─────────────────────────────────┼────────────────────────┼───────────────┤\n",
              "│ Capa_Salida (<span style=\"color: #0087ff; text-decoration-color: #0087ff\">Dense</span>)             │ (<span style=\"color: #00d7ff; text-decoration-color: #00d7ff\">None</span>, <span style=\"color: #00af00; text-decoration-color: #00af00\">1</span>)              │             <span style=\"color: #00af00; text-decoration-color: #00af00\">9</span> │\n",
              "└─────────────────────────────────┴────────────────────────┴───────────────┘\n",
              "</pre>\n"
            ]
          },
          "metadata": {}
        },
        {
          "output_type": "display_data",
          "data": {
            "text/plain": [
              "\u001b[1m Total params: \u001b[0m\u001b[38;5;34m8,009\u001b[0m (31.29 KB)\n"
            ],
            "text/html": [
              "<pre style=\"white-space:pre;overflow-x:auto;line-height:normal;font-family:Menlo,'DejaVu Sans Mono',consolas,'Courier New',monospace\"><span style=\"font-weight: bold\"> Total params: </span><span style=\"color: #00af00; text-decoration-color: #00af00\">8,009</span> (31.29 KB)\n",
              "</pre>\n"
            ]
          },
          "metadata": {}
        },
        {
          "output_type": "display_data",
          "data": {
            "text/plain": [
              "\u001b[1m Trainable params: \u001b[0m\u001b[38;5;34m8,009\u001b[0m (31.29 KB)\n"
            ],
            "text/html": [
              "<pre style=\"white-space:pre;overflow-x:auto;line-height:normal;font-family:Menlo,'DejaVu Sans Mono',consolas,'Courier New',monospace\"><span style=\"font-weight: bold\"> Trainable params: </span><span style=\"color: #00af00; text-decoration-color: #00af00\">8,009</span> (31.29 KB)\n",
              "</pre>\n"
            ]
          },
          "metadata": {}
        },
        {
          "output_type": "display_data",
          "data": {
            "text/plain": [
              "\u001b[1m Non-trainable params: \u001b[0m\u001b[38;5;34m0\u001b[0m (0.00 B)\n"
            ],
            "text/html": [
              "<pre style=\"white-space:pre;overflow-x:auto;line-height:normal;font-family:Menlo,'DejaVu Sans Mono',consolas,'Courier New',monospace\"><span style=\"font-weight: bold\"> Non-trainable params: </span><span style=\"color: #00af00; text-decoration-color: #00af00\">0</span> (0.00 B)\n",
              "</pre>\n"
            ]
          },
          "metadata": {}
        }
      ],
      "source": [
        "modelo = tf.keras.models.Sequential(name=\"red_simple\")\n",
        "modelo.add(tf.keras.Input(shape=(X.shape[1],)))\n",
        "modelo.add(tf.keras.layers.Embedding(input_dim=1000, output_dim=8, name=\"Capa_Embedding\"))  # capa de embedding\n",
        "modelo.add(tf.keras.layers.SpatialDropout1D(0.2, name=\"Capa_Dropout\"))                    # regularización\n",
        "modelo.add(tf.keras.layers.GlobalAveragePooling1D(name=\"Capa_Pooling\"))                 # reduce dimensiones\n",
        "modelo.add(tf.keras.layers.Dense(1, activation='sigmoid', name=\"Capa_Salida\"))           # salida binaria\n",
        "\n",
        "# Muestra la arquitectura de la red\n",
        "modelo.summary()"
      ]
    },
    {
      "cell_type": "markdown",
      "source": [
        "## Compila la red"
      ],
      "metadata": {
        "id": "PAj2f2ElCTw4"
      }
    },
    {
      "cell_type": "code",
      "source": [
        "modelo.compile(loss='binary_crossentropy', optimizer='adam', metrics=['accuracy'])"
      ],
      "metadata": {
        "id": "0b-zTVY-CWRN"
      },
      "execution_count": null,
      "outputs": []
    },
    {
      "cell_type": "markdown",
      "source": [
        "## Entrenar la red"
      ],
      "metadata": {
        "id": "fLZlD7mRCI4U"
      }
    },
    {
      "cell_type": "code",
      "source": [
        "history = modelo.fit(X, etiquetas, epochs=10, verbose=1)"
      ],
      "metadata": {
        "colab": {
          "base_uri": "https://localhost:8080/"
        },
        "id": "WB6uSqQLCMsf",
        "outputId": "7c1e4861-25a0-45ab-f860-e04f180b5958"
      },
      "execution_count": null,
      "outputs": [
        {
          "output_type": "stream",
          "name": "stdout",
          "text": [
            "Epoch 1/10\n",
            "\u001b[1m1/1\u001b[0m \u001b[32m━━━━━━━━━━━━━━━━━━━━\u001b[0m\u001b[37m\u001b[0m \u001b[1m1s\u001b[0m 1s/step - accuracy: 0.0000e+00 - loss: 0.6990\n",
            "Epoch 2/10\n",
            "\u001b[1m1/1\u001b[0m \u001b[32m━━━━━━━━━━━━━━━━━━━━\u001b[0m\u001b[37m\u001b[0m \u001b[1m0s\u001b[0m 77ms/step - accuracy: 0.3333 - loss: 0.6936\n",
            "Epoch 3/10\n",
            "\u001b[1m1/1\u001b[0m \u001b[32m━━━━━━━━━━━━━━━━━━━━\u001b[0m\u001b[37m\u001b[0m \u001b[1m0s\u001b[0m 66ms/step - accuracy: 0.5000 - loss: 0.6914\n",
            "Epoch 4/10\n",
            "\u001b[1m1/1\u001b[0m \u001b[32m━━━━━━━━━━━━━━━━━━━━\u001b[0m\u001b[37m\u001b[0m \u001b[1m0s\u001b[0m 140ms/step - accuracy: 0.8333 - loss: 0.6858\n",
            "Epoch 5/10\n",
            "\u001b[1m1/1\u001b[0m \u001b[32m━━━━━━━━━━━━━━━━━━━━\u001b[0m\u001b[37m\u001b[0m \u001b[1m0s\u001b[0m 63ms/step - accuracy: 0.5000 - loss: 0.6899\n",
            "Epoch 6/10\n",
            "\u001b[1m1/1\u001b[0m \u001b[32m━━━━━━━━━━━━━━━━━━━━\u001b[0m\u001b[37m\u001b[0m \u001b[1m0s\u001b[0m 64ms/step - accuracy: 0.5000 - loss: 0.6912\n",
            "Epoch 7/10\n",
            "\u001b[1m1/1\u001b[0m \u001b[32m━━━━━━━━━━━━━━━━━━━━\u001b[0m\u001b[37m\u001b[0m \u001b[1m0s\u001b[0m 141ms/step - accuracy: 0.8333 - loss: 0.6854\n",
            "Epoch 8/10\n",
            "\u001b[1m1/1\u001b[0m \u001b[32m━━━━━━━━━━━━━━━━━━━━\u001b[0m\u001b[37m\u001b[0m \u001b[1m0s\u001b[0m 62ms/step - accuracy: 0.8333 - loss: 0.6853\n",
            "Epoch 9/10\n",
            "\u001b[1m1/1\u001b[0m \u001b[32m━━━━━━━━━━━━━━━━━━━━\u001b[0m\u001b[37m\u001b[0m \u001b[1m0s\u001b[0m 140ms/step - accuracy: 0.8333 - loss: 0.6842\n",
            "Epoch 10/10\n",
            "\u001b[1m1/1\u001b[0m \u001b[32m━━━━━━━━━━━━━━━━━━━━\u001b[0m\u001b[37m\u001b[0m \u001b[1m0s\u001b[0m 66ms/step - accuracy: 0.8333 - loss: 0.6854\n"
          ]
        }
      ]
    },
    {
      "cell_type": "code",
      "source": [
        "tf.keras.utils.plot_model(modelo, show_shapes=True, show_layer_names=True,\n",
        "           show_layer_activations=True, to_file=\"modelo_simple.png\")"
      ],
      "metadata": {
        "colab": {
          "base_uri": "https://localhost:8080/",
          "height": 1000
        },
        "id": "GpKEHhFUXakm",
        "outputId": "81217c49-9f93-4861-e6f8-2c3ea6bd45ea"
      },
      "execution_count": null,
      "outputs": [
        {
          "output_type": "execute_result",
          "data": {
            "image/png": "[encoded data removed]",
            "text/plain": [
              "<IPython.core.display.Image object>"
            ]
          },
          "metadata": {},
          "execution_count": 67
        }
      ]
    },
    {
      "cell_type": "markdown",
      "source": [
        "# Modelo bidireccional"
      ],
      "metadata": {
        "id": "eLaoVwuYC7Q3"
      }
    },
    {
      "cell_type": "markdown",
      "source": [
        "Agregar una capa `Bidirectional` implica el uso de  redes recurrentes (RNN) que procesan secuencias en ambas direcciones (hacia adelante y hacia atrás), lo que mejora la comprensión del contexto.\n",
        "\n",
        "La capa `Bidirectional` se usa alrededor de una capa recurrente que puede ser `LSTM` o `GRU`\n",
        "\n",
        "🧠 **¿Qué aporta `Bidirectional`?**\n",
        "\n",
        "+ **LSTM normal**: procesa una frase de izquierda a derecha.\n",
        "\n",
        "+ **Bidirectional (LSTM): también recorre de derecha a izquierda, eso ayuda a entender mejor el contexto.\n",
        "\n",
        "🧠 **¿Cuándo es útil usar `Bidirectional`?**\n",
        "\n",
        "+ El significado depende del contexto, como en *no está mal*\n",
        "+ La posición de la palabra importa"
      ],
      "metadata": {
        "id": "lPz_daX7F7PY"
      }
    },
    {
      "cell_type": "code",
      "source": [
        "# Modelo con Bidirectional\n",
        "modelo_b = tf.keras.models.Sequential(name=\"Red_Bidireccional\")\n",
        "modelo_b.add(tf.keras.Input(shape=(X.shape[1],)))\n",
        "modelo_b.add(tf.keras.layers.Embedding(input_dim=1000, output_dim=16, name=\"Capa_Embedding\"))\n",
        "modelo_b.add(tf.keras.layers.SpatialDropout1D(0.2, name=\"Capa_Dropout\"))\n",
        "modelo_b.add(tf.keras.layers.Bidirectional(LSTM(16, name=\"Capa_Bidireccional\")))  # procesa en ambas direcciones\n",
        "modelo_b.add(tf.keras.layers.Dense(1, activation='sigmoid', name=\"Capa_Salida\"))\n",
        "\n",
        "modelo_b.compile(loss='binary_crossentropy', optimizer='adam', metrics=['accuracy'])\n",
        "modelo_b.summary()\n",
        "\n",
        "# Entrenamiento\n",
        "history_b = modelo_b.fit(X, etiquetas, epochs=10, verbose=1)\n"
      ],
      "metadata": {
        "colab": {
          "base_uri": "https://localhost:8080/",
          "height": 606
        },
        "id": "7kdy6T4yDHp0",
        "outputId": "183955ce-9562-4e34-ca6b-e247e0e05473"
      },
      "execution_count": null,
      "outputs": [
        {
          "output_type": "display_data",
          "data": {
            "text/plain": [
              "\u001b[1mModel: \"Red_Bidireccional\"\u001b[0m\n"
            ],
            "text/html": [
              "<pre style=\"white-space:pre;overflow-x:auto;line-height:normal;font-family:Menlo,'DejaVu Sans Mono',consolas,'Courier New',monospace\"><span style=\"font-weight: bold\">Model: \"Red_Bidireccional\"</span>\n",
              "</pre>\n"
            ]
          },
          "metadata": {}
        },
        {
          "output_type": "display_data",
          "data": {
            "text/plain": [
              "┏━━━━━━━━━━━━━━━━━━━━━━━━━━━━━━━━━┳━━━━━━━━━━━━━━━━━━━━━━━━┳━━━━━━━━━━━━━━━┓\n",
              "┃\u001b[1m \u001b[0m\u001b[1mLayer (type)                   \u001b[0m\u001b[1m \u001b[0m┃\u001b[1m \u001b[0m\u001b[1mOutput Shape          \u001b[0m\u001b[1m \u001b[0m┃\u001b[1m \u001b[0m\u001b[1m      Param #\u001b[0m\u001b[1m \u001b[0m┃\n",
              "┡━━━━━━━━━━━━━━━━━━━━━━━━━━━━━━━━━╇━━━━━━━━━━━━━━━━━━━━━━━━╇━━━━━━━━━━━━━━━┩\n",
              "│ Capa_Embedding (\u001b[38;5;33mEmbedding\u001b[0m)      │ (\u001b[38;5;45mNone\u001b[0m, \u001b[38;5;34m4\u001b[0m, \u001b[38;5;34m16\u001b[0m)          │        \u001b[38;5;34m16,000\u001b[0m │\n",
              "├─────────────────────────────────┼────────────────────────┼───────────────┤\n",
              "│ Capa_Dropout (\u001b[38;5;33mSpatialDropout1D\u001b[0m) │ (\u001b[38;5;45mNone\u001b[0m, \u001b[38;5;34m4\u001b[0m, \u001b[38;5;34m16\u001b[0m)          │             \u001b[38;5;34m0\u001b[0m │\n",
              "├─────────────────────────────────┼────────────────────────┼───────────────┤\n",
              "│ bidirectional_4 (\u001b[38;5;33mBidirectional\u001b[0m) │ (\u001b[38;5;45mNone\u001b[0m, \u001b[38;5;34m32\u001b[0m)             │         \u001b[38;5;34m4,224\u001b[0m │\n",
              "├─────────────────────────────────┼────────────────────────┼───────────────┤\n",
              "│ Capa_Salida (\u001b[38;5;33mDense\u001b[0m)             │ (\u001b[38;5;45mNone\u001b[0m, \u001b[38;5;34m1\u001b[0m)              │            \u001b[38;5;34m33\u001b[0m │\n",
              "└─────────────────────────────────┴────────────────────────┴───────────────┘\n"
            ],
            "text/html": [
              "<pre style=\"white-space:pre;overflow-x:auto;line-height:normal;font-family:Menlo,'DejaVu Sans Mono',consolas,'Courier New',monospace\">┏━━━━━━━━━━━━━━━━━━━━━━━━━━━━━━━━━┳━━━━━━━━━━━━━━━━━━━━━━━━┳━━━━━━━━━━━━━━━┓\n",
              "┃<span style=\"font-weight: bold\"> Layer (type)                    </span>┃<span style=\"font-weight: bold\"> Output Shape           </span>┃<span style=\"font-weight: bold\">       Param # </span>┃\n",
              "┡━━━━━━━━━━━━━━━━━━━━━━━━━━━━━━━━━╇━━━━━━━━━━━━━━━━━━━━━━━━╇━━━━━━━━━━━━━━━┩\n",
              "│ Capa_Embedding (<span style=\"color: #0087ff; text-decoration-color: #0087ff\">Embedding</span>)      │ (<span style=\"color: #00d7ff; text-decoration-color: #00d7ff\">None</span>, <span style=\"color: #00af00; text-decoration-color: #00af00\">4</span>, <span style=\"color: #00af00; text-decoration-color: #00af00\">16</span>)          │        <span style=\"color: #00af00; text-decoration-color: #00af00\">16,000</span> │\n",
              "├─────────────────────────────────┼────────────────────────┼───────────────┤\n",
              "│ Capa_Dropout (<span style=\"color: #0087ff; text-decoration-color: #0087ff\">SpatialDropout1D</span>) │ (<span style=\"color: #00d7ff; text-decoration-color: #00d7ff\">None</span>, <span style=\"color: #00af00; text-decoration-color: #00af00\">4</span>, <span style=\"color: #00af00; text-decoration-color: #00af00\">16</span>)          │             <span style=\"color: #00af00; text-decoration-color: #00af00\">0</span> │\n",
              "├─────────────────────────────────┼────────────────────────┼───────────────┤\n",
              "│ bidirectional_4 (<span style=\"color: #0087ff; text-decoration-color: #0087ff\">Bidirectional</span>) │ (<span style=\"color: #00d7ff; text-decoration-color: #00d7ff\">None</span>, <span style=\"color: #00af00; text-decoration-color: #00af00\">32</span>)             │         <span style=\"color: #00af00; text-decoration-color: #00af00\">4,224</span> │\n",
              "├─────────────────────────────────┼────────────────────────┼───────────────┤\n",
              "│ Capa_Salida (<span style=\"color: #0087ff; text-decoration-color: #0087ff\">Dense</span>)             │ (<span style=\"color: #00d7ff; text-decoration-color: #00d7ff\">None</span>, <span style=\"color: #00af00; text-decoration-color: #00af00\">1</span>)              │            <span style=\"color: #00af00; text-decoration-color: #00af00\">33</span> │\n",
              "└─────────────────────────────────┴────────────────────────┴───────────────┘\n",
              "</pre>\n"
            ]
          },
          "metadata": {}
        },
        {
          "output_type": "display_data",
          "data": {
            "text/plain": [
              "\u001b[1m Total params: \u001b[0m\u001b[38;5;34m20,257\u001b[0m (79.13 KB)\n"
            ],
            "text/html": [
              "<pre style=\"white-space:pre;overflow-x:auto;line-height:normal;font-family:Menlo,'DejaVu Sans Mono',consolas,'Courier New',monospace\"><span style=\"font-weight: bold\"> Total params: </span><span style=\"color: #00af00; text-decoration-color: #00af00\">20,257</span> (79.13 KB)\n",
              "</pre>\n"
            ]
          },
          "metadata": {}
        },
        {
          "output_type": "display_data",
          "data": {
            "text/plain": [
              "\u001b[1m Trainable params: \u001b[0m\u001b[38;5;34m20,257\u001b[0m (79.13 KB)\n"
            ],
            "text/html": [
              "<pre style=\"white-space:pre;overflow-x:auto;line-height:normal;font-family:Menlo,'DejaVu Sans Mono',consolas,'Courier New',monospace\"><span style=\"font-weight: bold\"> Trainable params: </span><span style=\"color: #00af00; text-decoration-color: #00af00\">20,257</span> (79.13 KB)\n",
              "</pre>\n"
            ]
          },
          "metadata": {}
        },
        {
          "output_type": "display_data",
          "data": {
            "text/plain": [
              "\u001b[1m Non-trainable params: \u001b[0m\u001b[38;5;34m0\u001b[0m (0.00 B)\n"
            ],
            "text/html": [
              "<pre style=\"white-space:pre;overflow-x:auto;line-height:normal;font-family:Menlo,'DejaVu Sans Mono',consolas,'Courier New',monospace\"><span style=\"font-weight: bold\"> Non-trainable params: </span><span style=\"color: #00af00; text-decoration-color: #00af00\">0</span> (0.00 B)\n",
              "</pre>\n"
            ]
          },
          "metadata": {}
        },
        {
          "output_type": "stream",
          "name": "stdout",
          "text": [
            "Epoch 1/10\n",
            "\u001b[1m1/1\u001b[0m \u001b[32m━━━━━━━━━━━━━━━━━━━━\u001b[0m\u001b[37m\u001b[0m \u001b[1m4s\u001b[0m 4s/step - accuracy: 0.3333 - loss: 0.6934\n",
            "Epoch 2/10\n",
            "\u001b[1m1/1\u001b[0m \u001b[32m━━━━━━━━━━━━━━━━━━━━\u001b[0m\u001b[37m\u001b[0m \u001b[1m0s\u001b[0m 52ms/step - accuracy: 0.3333 - loss: 0.6936\n",
            "Epoch 3/10\n",
            "\u001b[1m1/1\u001b[0m \u001b[32m━━━━━━━━━━━━━━━━━━━━\u001b[0m\u001b[37m\u001b[0m \u001b[1m0s\u001b[0m 60ms/step - accuracy: 0.3333 - loss: 0.6932\n",
            "Epoch 4/10\n",
            "\u001b[1m1/1\u001b[0m \u001b[32m━━━━━━━━━━━━━━━━━━━━\u001b[0m\u001b[37m\u001b[0m \u001b[1m0s\u001b[0m 50ms/step - accuracy: 0.6667 - loss: 0.6924\n",
            "Epoch 5/10\n",
            "\u001b[1m1/1\u001b[0m \u001b[32m━━━━━━━━━━━━━━━━━━━━\u001b[0m\u001b[37m\u001b[0m \u001b[1m0s\u001b[0m 65ms/step - accuracy: 0.6667 - loss: 0.6912\n",
            "Epoch 6/10\n",
            "\u001b[1m1/1\u001b[0m \u001b[32m━━━━━━━━━━━━━━━━━━━━\u001b[0m\u001b[37m\u001b[0m \u001b[1m0s\u001b[0m 58ms/step - accuracy: 0.6667 - loss: 0.6889\n",
            "Epoch 7/10\n",
            "\u001b[1m1/1\u001b[0m \u001b[32m━━━━━━━━━━━━━━━━━━━━\u001b[0m\u001b[37m\u001b[0m \u001b[1m0s\u001b[0m 53ms/step - accuracy: 0.8333 - loss: 0.6891\n",
            "Epoch 8/10\n",
            "\u001b[1m1/1\u001b[0m \u001b[32m━━━━━━━━━━━━━━━━━━━━\u001b[0m\u001b[37m\u001b[0m \u001b[1m0s\u001b[0m 68ms/step - accuracy: 0.6667 - loss: 0.6885\n",
            "Epoch 9/10\n",
            "\u001b[1m1/1\u001b[0m \u001b[32m━━━━━━━━━━━━━━━━━━━━\u001b[0m\u001b[37m\u001b[0m \u001b[1m0s\u001b[0m 53ms/step - accuracy: 1.0000 - loss: 0.6870\n",
            "Epoch 10/10\n",
            "\u001b[1m1/1\u001b[0m \u001b[32m━━━━━━━━━━━━━━━━━━━━\u001b[0m\u001b[37m\u001b[0m \u001b[1m0s\u001b[0m 53ms/step - accuracy: 0.8333 - loss: 0.6883\n"
          ]
        }
      ]
    },
    {
      "cell_type": "code",
      "source": [
        "twt = ['Mi recomendación es que no lo compre']\n",
        "twt = tokenizer.texts_to_sequences(twt)\n",
        "twt = tf.keras.preprocessing.sequence.pad_sequences(twt, maxlen=X.shape[1], dtype='int32', value=0)"
      ],
      "metadata": {
        "id": "peGgI5xwVpWo"
      },
      "execution_count": null,
      "outputs": []
    },
    {
      "cell_type": "code",
      "source": [
        "sentiment = modelo.predict(twt, batch_size=1)[0]\n",
        "print(sentiment)\n",
        "\n",
        "print(\"Negativo\" if np.argmax(sentiment) == 0 else \"Positivo\")"
      ],
      "metadata": {
        "colab": {
          "base_uri": "https://localhost:8080/"
        },
        "id": "RbV57CiIV5mi",
        "outputId": "19f743e1-3e0b-428f-9b12-1c2356a59fc1"
      },
      "execution_count": null,
      "outputs": [
        {
          "output_type": "stream",
          "name": "stdout",
          "text": [
            "\u001b[1m1/1\u001b[0m \u001b[32m━━━━━━━━━━━━━━━━━━━━\u001b[0m\u001b[37m\u001b[0m \u001b[1m0s\u001b[0m 113ms/step\n",
            "[0.502694]\n",
            "Negativo\n"
          ]
        }
      ]
    },
    {
      "cell_type": "code",
      "source": [
        "sentiment = modelo_b.predict(twt, batch_size=1)[0]\n",
        "print(sentiment)\n",
        "\n",
        "print(\"Negativo\" if np.argmax(sentiment) == 0 else \"Positivo\")"
      ],
      "metadata": {
        "colab": {
          "base_uri": "https://localhost:8080/"
        },
        "id": "N7keoNUaWKsO",
        "outputId": "2a23f538-8373-45d5-b70b-1262a67ed9fe"
      },
      "execution_count": null,
      "outputs": [
        {
          "output_type": "stream",
          "name": "stdout",
          "text": [
            "\u001b[1m1/1\u001b[0m \u001b[32m━━━━━━━━━━━━━━━━━━━━\u001b[0m\u001b[37m\u001b[0m \u001b[1m0s\u001b[0m 331ms/step\n",
            "[0.49898574]\n",
            "Negativo\n"
          ]
        }
      ]
    }
  ]
}