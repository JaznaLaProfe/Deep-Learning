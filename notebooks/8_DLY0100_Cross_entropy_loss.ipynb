{
  "nbformat": 4,
  "nbformat_minor": 0,
  "metadata": {
    "colab": {
      "provenance": []
    },
    "kernelspec": {
      "name": "python3",
      "display_name": "Python 3"
    },
    "language_info": {
      "name": "python"
    }
  },
  "cells": [
    {
      "cell_type": "markdown",
      "source": [
        "# Explicación cross entropy loss\n",
        "\n",
        "**Autor:** Jazna Meza Hidalgo\n",
        "\n",
        "**Correo Electrónico:** ja.meza@profesor.duoc.cl\n",
        "\n",
        "**Fecha de Creación:** Febrero de 2025    \n",
        "**Versión:** 1.0  \n",
        "\n",
        "---\n",
        "\n",
        "## Descripción\n",
        "\n",
        "Este notebook explica el concepto de la entropia cruzada (cross entropy).\n",
        "\n",
        "*Cross entropy* es una función de pérdida utilziada en problemas de clasificación, especialmente en modelos que producen probabilidades, como las redes neuronales con **Softmax** en la última capa.\n",
        "\n",
        "\n",
        "---\n",
        "\n",
        "## Requisitos de Software\n",
        "\n",
        "Este notebook fue desarrollado con Python 3.9. A continuación se listan las bibliotecas necesarias:\n",
        "\n",
        "- numpy (1.26.4)\n",
        "\n",
        "Para verificar la versión instalada ejecutar usando el nombre del paquete del cual quieres saber la versión; por ejemplo, si quieres saber la versión de sklearn usas:\n",
        "\n",
        "```bash\n",
        "import numpy\n",
        "print(numpy.__version__)\n",
        "````"
      ],
      "metadata": {
        "id": "5jkMuYXQ2Pbo"
      }
    },
    {
      "cell_type": "markdown",
      "source": [
        "# Intuición detrás de cross entropy\n",
        "\n",
        "Cuando se entrena un modelo de clasificación, se quiere que la probabilidad predicha para la clase correcta sea la más **alta posible**.\n",
        "\n",
        "Por ejemplo, si se están clasificando imàgenes de gatos y perror, un buen modelo debe asignar una **probabilidad alta** a la clase en cada caso.\n",
        "\n",
        "Si un modelo predice que una imagen de un gato tiene una probabilidad de 0.9 de ser gato y 0.1 de ser perro, es una mejor predicción que decir que ambas clases tienne 0,5 de probabilidad.\n",
        "\n",
        "*Cross entropy* mide **qué tan bien están alineadas las probabilidades predichas con la clase real**"
      ],
      "metadata": {
        "id": "F6ZB1SmP3IRz"
      }
    },
    {
      "cell_type": "markdown",
      "source": [
        "# Matemática asociada con cross entropy\n",
        "\n",
        "Para una única muestra con una distribución real y una distrobución predicha $\\hat{y}$ la **cross entropy** se define como:\n",
        "\n",
        "$H(y,\\hat{y})=-\n",
        "\\sum_{i=1}^{C}y_{i}log(\\hat{y})$\n",
        "\n",
        "Donde:\n",
        "\n",
        "+ C es el número de clases.\n",
        "+ $y_i$ es el **valor real** de la clase $i$ (1 es la clase correcta, 0 en caso contrario).\n",
        "+ $\\hat{y}$ es la **probabilidad predicha** por el modelo para la clase $i$.\n",
        "\n",
        "Si sólo se tienen **una clase correcta**, esta ecuación se reduce a:\n",
        "\n",
        "$L=-log(\\hat{y}_{correcta})$\n"
      ],
      "metadata": {
        "id": "2r4HjKZK3-4o"
      }
    },
    {
      "cell_type": "markdown",
      "source": [
        "# Ejemplo con 3 clases (gatos, perro, panda)\n",
        "\n",
        "| Clase         | Probabilidad predicha $\\hat{y}_i$|\n",
        "|---------------|----------------------------------|\n",
        "| Gato (0)      |                         0.1      |\n",
        "| Perro (1)     |                         0.7      |\n",
        "| Panda (2)     |                         0.2      |\n",
        "\n",
        "Como la imagen es un perro, la entropía cruzada será:\n",
        "\n",
        "$L=-log(0.7)$\n",
        "\n",
        "Si el modelo fuera perro y predijera 0.3 para perro:\n",
        "\n",
        "$L=-log(0.3)$\n",
        "\n",
        "🔹 Cuanto mayor sea la probabilidad predicha de la clase correcta, menor será la pérdida.\n",
        "\n",
        "🔹 Si la probabilidad de la clase correcta es cercana a 0, la pérdida será muy alta."
      ],
      "metadata": {
        "id": "UQAmGF1e4CxS"
      }
    },
    {
      "cell_type": "markdown",
      "source": [
        "# Ejemplo práctico"
      ],
      "metadata": {
        "id": "lg76qf8m3EZc"
      }
    },
    {
      "cell_type": "code",
      "execution_count": 3,
      "metadata": {
        "colab": {
          "base_uri": "https://localhost:8080/"
        },
        "id": "vtD5zged2CPH",
        "outputId": "a7d81589-d613-4a08-cbd5-63e20b0c90e1"
      },
      "outputs": [
        {
          "output_type": "stream",
          "name": "stdout",
          "text": [
            "Pérdida (modelo bueno): 0.35667494393873245\n",
            "Pérdida (modelo malo) : 1.2039728043259361\n"
          ]
        }
      ],
      "source": [
        "import numpy as np\n",
        "\n",
        "def cross_entropy(y_true: np.array, y_pred: np.array):\n",
        "    \"\"\"\n",
        "    Calcula la pérdida de entropía cruzada entre etiquetas reales y predichas.\n",
        "\n",
        "    Parámetros:\n",
        "    - y_true: np.array de etiquetas reales (one-hot encoded)\n",
        "    - y_pred: np.array de probabilidades predichas (softmax output)\n",
        "\n",
        "    Retorna:\n",
        "    - Pérdida de entropía cruzada promedio.\n",
        "    \"\"\"\n",
        "    epsilon = 1e-12  # Para evitar log(0)\n",
        "    y_pred = np.clip(y_pred, epsilon, 1. - epsilon)\n",
        "    return -np.sum(y_true * np.log(y_pred)) / y_true.shape[0]\n",
        "\n",
        "# Ejemplo: Clasificación de 3 clases\n",
        "y_real = np.array([[0, 1, 0]])  # La clase real es la segunda (Perro)\n",
        "y_pred_bien = np.array([[0.1, 0.7, 0.2]])  # Buen modelo\n",
        "y_pred_mal = np.array([[0.3, 0.3, 0.4]])  # Mal modelo\n",
        "\n",
        "print(f\"Pérdida (modelo bueno): {cross_entropy(y_real, y_pred_bien)}\")\n",
        "print(f\"Pérdida (modelo malo) : {cross_entropy(y_real, y_pred_mal)}\")\n"
      ]
    },
    {
      "cell_type": "markdown",
      "source": [
        "\n",
        "\n",
        "---\n",
        "**Comentarios**\n",
        "\n",
        "---\n",
        "\n",
        "🔹 El modelo bueno tendrá menor pérdida que el malo.\n",
        "\n",
        "🔹 Si la clase correcta tiene una probabilidad alta, la pérdida será baja.\n",
        "\n"
      ],
      "metadata": {
        "id": "6GTY5B6B75bZ"
      }
    },
    {
      "cell_type": "markdown",
      "source": [
        "# ¿Por qué se usa en clasificación?\n",
        "\n",
        "+ Es **convexa**, lo que facilita la optimización con métodos como **descenso de gradiente**.\n",
        "+ **Maximiza la probabilidad de la clase correcta**, lo que hace que el modelo aprenda a generar predicciones más confiables.\n",
        "+ Funciona bien con **softmax**, ya que este convierte los valores en una distriución de probabilidad."
      ],
      "metadata": {
        "id": "IFW4o4Yc8Ef4"
      }
    },
    {
      "cell_type": "markdown",
      "source": [
        "# Resumen\n",
        "\n",
        "✅ Mide qué tan bien las probabilidades predichas se alinean con las etiquetas reales.\n",
        "\n",
        "✅ Si la clase correcta tiene probabilidad baja, la pérdida será grande.\n",
        "\n",
        "✅ Es una función clave en clasificación y se usa junto con Softmax.\n",
        "\n",
        "\n",
        "\n",
        "---\n",
        "\n",
        "\n",
        "🔹 💡 Entre más confianza tenga el modelo en la clase correcta, menor será la pérdida.\n",
        "\n",
        "\n",
        "---\n",
        "\n"
      ],
      "metadata": {
        "id": "mt5P95nb8sQg"
      }
    }
  ]
}